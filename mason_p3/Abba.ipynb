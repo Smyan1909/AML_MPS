{
 "cells": [
  {
   "cell_type": "markdown",
   "id": "cee2c219-1381-4bb2-a7b3-8e43745ed68f",
   "metadata": {},
   "source": [
    "## Imports"
   ]
  },
  {
   "cell_type": "code",
   "execution_count": 1,
   "id": "91b4ad20-8fbb-4ee9-9952-4d7171e991b4",
   "metadata": {
    "tags": []
   },
   "outputs": [],
   "source": [
    "import pickle\n",
    "import gzip\n",
    "import os\n",
    "import time\n",
    "import copy\n",
    "import cv2\n",
    "\n",
    "import numpy as np\n",
    "from tqdm import tqdm\n",
    "import matplotlib.pyplot as plt\n",
    "from IPython.display import display, clear_output\n",
    "\n",
    "import torch\n",
    "import torch.nn as nn\n",
    "import torch.nn.functional as F\n",
    "import torch.optim as optim\n",
    "import torchvision.transforms as transforms\n",
    "from torch.utils.data import Dataset, DataLoader"
   ]
  },
  {
   "cell_type": "markdown",
   "id": "7867b63a-9d89-4b5a-9663-0a6ef26fe0bc",
   "metadata": {},
   "source": [
    "## Utility Functions"
   ]
  },
  {
   "cell_type": "code",
   "execution_count": 46,
   "id": "fb7eb264-d733-4bc1-860c-3740ae393842",
   "metadata": {
    "tags": []
   },
   "outputs": [],
   "source": [
    "def print_train_data_point(item, verbose=False):\n",
    "    name = item['name']   #\n",
    "    video = item['video'] #\n",
    "    box = item['box']\n",
    "    label = item['label']\n",
    "    frames = item['frames'] #\n",
    "    dataset = item['dataset'] #\n",
    "    \n",
    "    print(f\"Dataset: {dataset}, Name: {name}\\nVideo Shape:   {video.shape}\\nLabeld Frames: {frames}\")\n",
    "    if verbose:\n",
    "        print(f\"Box Shape:   {box.shape}\\nLabel Shape: {label.shape}\")\n",
    "    print()\n",
    "    \n",
    "def resize_boolean_array(b_item, shape=(128, 128)):\n",
    "    # Step 1: Convert boolean to uint8 (True -> 255, False -> 0)\n",
    "    b_item_uint8 = b_item.astype(np.uint8) * 255\n",
    "    \n",
    "    # Step 2: Resize the array with nearest-neighbor interpolation\n",
    "    size = (shape[1],shape[0])\n",
    "    resized_item = cv2.resize(b_item_uint8, size, interpolation=cv2.INTER_NEAREST)\n",
    "    \n",
    "    # Step 3: Convert back to boolean (any value >= 127 is True)\n",
    "    resized_item_boolean = resized_item >= 127\n",
    "    \n",
    "    return resized_item_boolean\n",
    "\n",
    "def extract_box_center_batch(boolean_batch):\n",
    "    \n",
    "    batch_size = boolean_batch.shape[0]\n",
    "    coordinates = []\n",
    "    \n",
    "    for i in range(batch_size):\n",
    "        boolean_array = boolean_batch[i]\n",
    "        height, width = boolean_array.shape\n",
    "        #print(boolean_array)\n",
    "        \n",
    "        x1 = None\n",
    "        y1 = None\n",
    "        x2 = None\n",
    "        y2 = None\n",
    "        i = 0\n",
    "        \n",
    "        for h in range(height):\n",
    "            for w in range(width):\n",
    "                if boolean_array[h][w] == True:\n",
    "                    x2, y2 = h, w\n",
    "                    if (i==0):\n",
    "                        x1, y1 = h, w\n",
    "                    i += 1\n",
    "        \n",
    "        center_x = (x1 + x2) // 2\n",
    "        center_y = (y1 + y2) // 2\n",
    "        coordinates.append((center_x, center_y))\n",
    "            \n",
    "    return torch.FloatTensor(np.array(coordinates))\n",
    "\n",
    "def reconstruct_box_centers_batch(coords_batch, shape=(128,128), box_width=30, box_height=50):\n",
    "    \n",
    "    batch_size = coords_batch.shape[0]\n",
    "    boxes = []\n",
    "    half_width = box_width // 2\n",
    "    half_height = box_height // 2 \n",
    "    \n",
    "    for i in range(batch_size):\n",
    "        center_x, center_y = coords_batch[i,:].detach().numpy().astype(int)\n",
    "        box = np.zeros(shape, dtype=bool)\n",
    "        \n",
    "        # Calculate box boundaries\n",
    "        x1 = max(0, center_x - half_width)\n",
    "        x2 = min(shape[0] - 1, center_x + half_width)\n",
    "        y1 = max(0, center_y - half_height)\n",
    "        y2 = min(shape[1] - 1, center_y + half_height)\n",
    "        \n",
    "        box[x1:x2+1, y1:y2+1] = True\n",
    "        boxes.append(box)\n",
    "    \n",
    "    return torch.BoolTensor(np.array(boxes))\n",
    "\n",
    "def calculate_box_area(x1, y1, x2, y2):\n",
    "    # Ensure the coordinates are within the image bounds\n",
    "    if x1 < 0 or y1 < 0 or x2 > 128 or y2 > 128:\n",
    "        raise ValueError(\"Box coordinates are outside the image bounds.\")\n",
    "    if x1 >= x2 or y1 >= y2:\n",
    "        raise ValueError(\"Invalid box coordinates: (x1, y1) must be top-left and (x2, y2) bottom-right.\")\n",
    "    \n",
    "    # Calculate the width and height of the box\n",
    "    width = x2 - x1\n",
    "    height = y2 - y1\n",
    "    \n",
    "    # Calculate and return the area\n",
    "    return width * height"
   ]
  },
  {
   "cell_type": "raw",
   "id": "9048e000-371f-49ba-aced-4d2481bd8304",
   "metadata": {
    "tags": []
   },
   "source": [
    "b1 = np.array([[False, False, False, False, False],\n",
    "               [False, False, False, False, False],\n",
    "               [False, False, True , False, False],\n",
    "               [False, False, False, False, False],\n",
    "               [False, False, False, False, False]])\n",
    "b2 = b1.copy()\n",
    "shape=(10,10)\n",
    "b1 = resize_boolean_array(b1, shape=shape)\n",
    "b2 = resize_boolean_array(b2, shape=shape)\n",
    "b = []\n",
    "b.append(b1)\n",
    "b.append(b2)\n",
    "box_batch = torch.BoolTensor(np.array(b))\n",
    "print(b1)\n",
    "\n",
    "center_batch = extract_box_center_batch(box_batch)\n",
    "print(center_batch[0])\n",
    "\n",
    "new_boxes = reconstruct_box_centers_batch(center_batch, shape=shape, box_size=3)\n",
    "print(new_boxes[0].detach().numpy())"
   ]
  },
  {
   "cell_type": "markdown",
   "id": "a1395e9b-ea6a-45ce-8b54-84946266e321",
   "metadata": {
    "tags": []
   },
   "source": [
    "## Graphing Functions"
   ]
  },
  {
   "cell_type": "code",
   "execution_count": 7,
   "id": "7b4be56c-b649-4938-905a-249f14c35165",
   "metadata": {
    "tags": []
   },
   "outputs": [],
   "source": [
    "def plot_frame(frame, title, mask=None):\n",
    "    \n",
    "    # Apply the mask to the copy if provided\n",
    "    frame_with_mask = frame.copy()\n",
    "    frame_without_mask = frame.copy()\n",
    "    if mask is not None:\n",
    "        frame_with_mask[~mask] = 0\n",
    "    \n",
    "    fig, axs = plt.subplots(1, 2, figsize=(8, 4))\n",
    "    \n",
    "    # Plot the frame without mask\n",
    "    axs[0].imshow(frame_without_mask, cmap='gray')\n",
    "    title0 = title + \" without mask\"\n",
    "    axs[0].set_title(title0)\n",
    "    axs[0].axis('off')\n",
    "    \n",
    "    # Plot the frame with mask\n",
    "    axs[1].imshow(frame_with_mask, cmap='gray')\n",
    "    title1 = title + \" with mask\"\n",
    "    axs[1].set_title(title1)\n",
    "    axs[1].axis('off') \n",
    "    \n",
    "    plt.tight_layout()\n",
    "    plt.show()\n",
    "    \n",
    "def show_video(frames, masks, speed=0.025):\n",
    "    \n",
    "    video = frames.copy()\n",
    "    masked_video = video * masks  # Apply the mask to each frame\n",
    "    \n",
    "    num_frames = video.shape[2]\n",
    "    plt.figure(figsize=(10, 5))\n",
    "    \n",
    "    for i in range(num_frames):\n",
    "        plt.clf()  # Clear the previous plot\n",
    "        \n",
    "        # Left subplot: Original video\n",
    "        plt.subplot(1, 2, 1)\n",
    "        plt.imshow(video[:, :, i], cmap='gray')\n",
    "        plt.axis('off')\n",
    "        plt.title(f\"Original Frame {i+1}/{num_frames}\")\n",
    "        \n",
    "        # Right subplot: Masked video\n",
    "        plt.subplot(1, 2, 2)\n",
    "        plt.imshow(masked_video[:, :, i], cmap='gray')\n",
    "        plt.axis('off')\n",
    "        plt.title(\"Masked Frame\")\n",
    "        \n",
    "        # Display and wait\n",
    "        display(plt.gcf())\n",
    "        clear_output(wait=True)\n",
    "        time.sleep(speed)"
   ]
  },
  {
   "cell_type": "markdown",
   "id": "6edaeff8-921e-4187-81ef-5bc28e7abb2a",
   "metadata": {
    "tags": []
   },
   "source": [
    "## Load Data"
   ]
  },
  {
   "cell_type": "code",
   "execution_count": 10,
   "id": "f6ec76c5-8574-4992-8451-a68818bd3d99",
   "metadata": {
    "tags": []
   },
   "outputs": [
    {
     "name": "stderr",
     "output_type": "stream",
     "text": [
      "100%|██████████| 65/65 [00:00<00:00, 222.72it/s]"
     ]
    },
    {
     "name": "stdout",
     "output_type": "stream",
     "text": [
      "Amateur Train set items:46\n",
      "Expert Train set items:19\n",
      "All Train set items:65\n",
      "Test set items:20\n"
     ]
    },
    {
     "name": "stderr",
     "output_type": "stream",
     "text": [
      "\n"
     ]
    }
   ],
   "source": [
    "def load_zipped_pickle(filename):\n",
    "    with gzip.open(filename, 'rb') as f:\n",
    "        loaded_object = pickle.load(f)\n",
    "        return loaded_object\n",
    "    \n",
    "# load data\n",
    "train_data = load_zipped_pickle(\"train.pkl\")\n",
    "test_data = load_zipped_pickle(\"test.pkl\")\n",
    "\n",
    "train_data_amateurs = []\n",
    "train_data_experts = []\n",
    "train_data_all = []\n",
    "\n",
    "for item in tqdm(train_data):\n",
    "    if(item['dataset'] == \"amateur\"):\n",
    "        train_data_amateurs.append(item)\n",
    "    else:\n",
    "        train_data_experts.append(item)\n",
    "    train_data_all.append(copy.deepcopy(item))\n",
    "        \n",
    "print(f\"Amateur Train set items:{len(train_data_amateurs)}\")\n",
    "print(f\"Expert Train set items:{len(train_data_experts)}\")\n",
    "print(f\"All Train set items:{len(train_data_all)}\")\n",
    "print(f\"Test set items:{len(test_data)}\")"
   ]
  },
  {
   "cell_type": "code",
   "execution_count": 12,
   "id": "39be7ce3-b66f-414c-9107-2b1d1578ee4d",
   "metadata": {
    "tags": []
   },
   "outputs": [
    {
     "name": "stderr",
     "output_type": "stream",
     "text": [
      "100%|██████████| 46/46 [00:00<00:00, 957.98it/s]\n",
      "100%|██████████| 19/19 [00:00<00:00, 58.08it/s]\n",
      "100%|██████████| 65/65 [00:00<00:00, 180.01it/s]\n"
     ]
    }
   ],
   "source": [
    "def eliminate_exes(data_point):  \n",
    "    video = data_point['video'] \n",
    "    frames = data_point['frames'] \n",
    "    label = data_point['label']\n",
    "    \n",
    "    height, width, n_frames = video.shape\n",
    "    \n",
    "    cut_video = np.zeros((height, width, len(frames)))\n",
    "    cut_label = np.zeros((height, width, len(frames)))\n",
    "    \n",
    "    for i, f in enumerate(frames):\n",
    "        cut_video[:, :, i] = video[:, :, f]\n",
    "        cut_label[:, :, i] = label[:, :, f]\n",
    "        \n",
    "    data_point['video'] = cut_video\n",
    "    data_point['label'] = cut_label\n",
    "\n",
    "def clean_data(data):\n",
    "    for item in tqdm(data):\n",
    "        eliminate_exes(item)\n",
    "        \n",
    "# one time run!!\n",
    "clean_data(train_data_amateurs)\n",
    "clean_data(train_data_experts)\n",
    "clean_data(train_data_all)\n",
    "#          test_data"
   ]
  },
  {
   "cell_type": "markdown",
   "id": "b858d299-b7c9-43ac-a4c9-db817ec35df5",
   "metadata": {
    "tags": []
   },
   "source": [
    "## Create Datasets"
   ]
  },
  {
   "cell_type": "code",
   "execution_count": 15,
   "id": "38f19716-6673-429c-82c8-00b145b58c61",
   "metadata": {
    "tags": []
   },
   "outputs": [],
   "source": [
    "class EchoDataset(Dataset):\n",
    "    def __init__(self, frames_data, boxes_data, labels_data, test=False,transform=None):\n",
    "        self.frames_data = frames_data  # Numpy array: (num_frames, height, width)\n",
    "        self.boxes_data = boxes_data    # Numpy array: (num_frames, height, width)\n",
    "        \n",
    "        if not test:\n",
    "            self.labels_data = labels_data  # Numpy array: (num_frames, height, width)\n",
    "        else:\n",
    "            self.labels_data = None\n",
    "            \n",
    "        self.transform = transform\n",
    "\n",
    "    def __getitem__(self, index):\n",
    "        frame = self.frames_data[index]  # shape (height, width)\n",
    "        box = self.boxes_data[index]     # shape (height, width)\n",
    "        label = self.labels_data[index]   # shape (height, width)\n",
    "\n",
    "        frame = torch.FloatTensor(frame) \n",
    "        box = torch.BoolTensor(box)\n",
    "        label = torch.FloatTensor(label) \n",
    "\n",
    "        return frame, box, label\n",
    "\n",
    "    def __len__(self):\n",
    "        return len(self.frames_data)"
   ]
  },
  {
   "cell_type": "code",
   "execution_count": 17,
   "id": "ad90f71b-eefb-4002-9685-e504a9dc358c",
   "metadata": {
    "tags": []
   },
   "outputs": [
    {
     "name": "stderr",
     "output_type": "stream",
     "text": [
      "100%|██████████| 46/46 [00:00<00:00, 7928.74it/s]\n",
      "100%|██████████| 19/19 [00:00<00:00, 209.41it/s]\n",
      "100%|██████████| 65/65 [00:00<00:00, 665.37it/s]\n"
     ]
    }
   ],
   "source": [
    "def get_resized_normalized_list(data):\n",
    "    f = []\n",
    "    b = []\n",
    "    l = []\n",
    "    \n",
    "    for item in tqdm(data):\n",
    "        for i in range(item['video'].shape[2]):\n",
    "            f_item = item['video'][:,:,i] \n",
    "            b_item = item['box']\n",
    "            l_item = item['label'][:,:,i]\n",
    "            \n",
    "            f.append(cv2.resize(f_item.astype(np.uint8), (128, 128)))\n",
    "            b.append(resize_boolean_array(b_item, shape=(128, 128)))\n",
    "            l.append(cv2.resize(l_item.astype(np.uint8), (128, 128)))\n",
    "\n",
    "    return f, b, l\n",
    "\n",
    "f_a, b_a, l_a = get_resized_normalized_list(train_data_amateurs)\n",
    "f_e, b_e, l_e = get_resized_normalized_list(train_data_experts)\n",
    "f_ae, b_ae, l_ae = get_resized_normalized_list(train_data_all)"
   ]
  },
  {
   "cell_type": "code",
   "execution_count": 19,
   "id": "0d752cc2-dd33-48c1-bf96-0e6c125f25f9",
   "metadata": {
    "tags": []
   },
   "outputs": [
    {
     "name": "stdout",
     "output_type": "stream",
     "text": [
      "65.0, 46.0, 19.0\n"
     ]
    }
   ],
   "source": [
    "amateur_train_dataset = EchoDataset(f_a, b_a, l_a)\n",
    "expert_train_dataset = EchoDataset(f_e, b_e, l_e)\n",
    "all_train_dataset = EchoDataset(f_ae, b_ae, l_ae)\n",
    "\n",
    "a = all_train_dataset.__len__()\n",
    "b = amateur_train_dataset.__len__()\n",
    "c = expert_train_dataset.__len__()\n",
    "\n",
    "print(f\"{a/3}, {b/3}, {c/3}\")"
   ]
  },
  {
   "cell_type": "markdown",
   "id": "22711d28-a25f-4d99-8428-3579d6ffda9e",
   "metadata": {
    "tags": []
   },
   "source": [
    "## Models"
   ]
  },
  {
   "cell_type": "code",
   "execution_count": 21,
   "id": "aac75116-bc18-4b71-898f-1ed9b7a7e2d2",
   "metadata": {
    "tags": []
   },
   "outputs": [],
   "source": [
    "class BoxPositionModel(nn.Module):\n",
    "    def __init__(self):\n",
    "        super(BoxPositionModel, self).__init__()\n",
    "        self.cnn = nn.Sequential(\n",
    "            nn.Conv2d(1, 32, kernel_size=3, stride=1, padding=1), # Output: 32x128x128\n",
    "            nn.ReLU(),\n",
    "            nn.MaxPool2d(2, 2), # Output: 32x64x64\n",
    "            nn.Conv2d(32, 64, kernel_size=3, stride=1, padding=1), # Output: 64x64x64\n",
    "            nn.ReLU(),\n",
    "            nn.MaxPool2d(2, 2), # Output: 64x32x32\n",
    "            nn.Conv2d(64, 128, kernel_size=3, stride=1, padding=1), # Output: 128x32x32\n",
    "            nn.ReLU(),\n",
    "            nn.MaxPool2d(2, 2) # Output: 128x16x16\n",
    "        )\n",
    "        self.fc = nn.Sequential(\n",
    "            nn.Flatten(),\n",
    "            nn.Linear(128 * 16 * 16, 512),\n",
    "            nn.ReLU(),\n",
    "            nn.Linear(512, 64),\n",
    "            nn.ReLU(),\n",
    "            nn.Linear(64, 2) # Output: (center_x, center_y)\n",
    "        )\n",
    "    \n",
    "    def forward(self, x):\n",
    "        x = self.cnn(x)\n",
    "        x = self.fc(x)\n",
    "        return x"
   ]
  },
  {
   "cell_type": "markdown",
   "id": "8d8c6840-bdda-492d-abb9-c3b0aa162ae8",
   "metadata": {},
   "source": [
    "## Train Box finding"
   ]
  },
  {
   "cell_type": "code",
   "execution_count": 23,
   "id": "b0fda87a-05d8-4e43-8435-2b29994e4cfd",
   "metadata": {
    "tags": []
   },
   "outputs": [
    {
     "name": "stdout",
     "output_type": "stream",
     "text": [
      "Epoch 1/20, Loss: 4750.826329157902\n",
      "Epoch 2/20, Loss: 537.4585629976713\n",
      "Epoch 3/20, Loss: 246.4599266052246\n",
      "Epoch 4/20, Loss: 156.9307626577524\n",
      "Epoch 5/20, Loss: 125.12447357177734\n",
      "Epoch 6/20, Loss: 92.11160219632663\n",
      "Epoch 7/20, Loss: 74.29728977496808\n",
      "Epoch 8/20, Loss: 67.74900759183444\n",
      "Epoch 9/20, Loss: 61.251457947951096\n",
      "Epoch 10/20, Loss: 38.808631896972656\n",
      "Epoch 11/20, Loss: 30.339604047628548\n",
      "Epoch 12/20, Loss: 25.00900437281682\n",
      "Epoch 13/20, Loss: 14.823106985825758\n",
      "Epoch 14/20, Loss: 12.335148994739239\n",
      "Epoch 15/20, Loss: 9.592385787230272\n",
      "Epoch 16/20, Loss: 7.460145986997164\n",
      "Epoch 17/20, Loss: 5.754187712302575\n",
      "Epoch 18/20, Loss: 5.279273363260122\n",
      "Epoch 19/20, Loss: 3.9783704372552724\n",
      "Epoch 20/20, Loss: 1.9008840093245873\n"
     ]
    }
   ],
   "source": [
    "device = torch.device(\"cuda\" if torch.cuda.is_available() else \"cpu\")\n",
    "\n",
    "train_loader = DataLoader(all_train_dataset, batch_size=16, shuffle=True)\n",
    "\n",
    "model = BoxPositionModel()\n",
    "criterion = nn.MSELoss()\n",
    "optimizer = optim.Adam(model.parameters(), lr=0.001)\n",
    "\n",
    "# Training loop\n",
    "def train_model(train_loader, model, criterion, optimizer, num_epochs=10):\n",
    "    model.train()\n",
    "    for epoch in range(num_epochs):\n",
    "        total_loss = 0\n",
    "        for frame_batch, box_batch, label_batch in train_loader: # images: (batch_size, 1, 128, 128), targets: (batch_size, 4)\n",
    "            optimizer.zero_grad()\n",
    "            outputs = model(frame_batch.unsqueeze(1))\n",
    "            loss = criterion(outputs, extract_box_center_batch(box_batch))\n",
    "            loss.backward()\n",
    "            optimizer.step()\n",
    "            total_loss += loss.item()\n",
    "        print(f\"Epoch {epoch+1}/{num_epochs}, Loss: {total_loss/len(train_loader)}\")\n",
    "\n",
    "        \n",
    "train_model(train_loader, model, criterion, optimizer, num_epochs=30)"
   ]
  },
  {
   "cell_type": "markdown",
   "id": "6e18a7c3-affa-4d2c-b02a-2dfa57470fce",
   "metadata": {},
   "source": [
    "## Testing"
   ]
  },
  {
   "cell_type": "code",
   "execution_count": 50,
   "id": "b77a531d-bf81-482f-a21d-a8ce6bc75473",
   "metadata": {
    "tags": []
   },
   "outputs": [
    {
     "data": {
      "image/png": "[encoded data removed]",
      "text/plain": [
       "<Figure size 1000x500 with 2 Axes>"
      ]
     },
     "metadata": {},
     "output_type": "display_data"
    }
   ],
   "source": [
    "test_video_0 = test_data[3]['video']\n",
    "vid = np.zeros((128,128,test_video_0.shape[2]))\n",
    "for i in range(test_video_0.shape[2]):\n",
    "    vid[:,:,i] = cv2.resize(test_video_0[:,:,i].astype(np.uint8), (128, 128))\n",
    "   \n",
    "\n",
    "model.eval()\n",
    "vid = torch.FloatTensor(vid)\n",
    "frames = vid.unsqueeze(0)\n",
    "frames = frames.permute(3, 0, 1, 2)\n",
    "#print(frames.shape)\n",
    "\n",
    "\n",
    "model.eval()\n",
    "frame_box_coords = model(frames)\n",
    "boxes = reconstruct_box_centers_batch(frame_box_coords)\n",
    "\n",
    "video_frames = frames.squeeze().permute(1, 2, 0)\n",
    "video_boxes = boxes.permute(1, 2, 0)\n",
    "#print(video_frames.shape)\n",
    "#print(video_boxes.shape)\n",
    "\n",
    "show_video(frames=video_frames.detach().numpy(), masks=video_boxes.detach().numpy(), speed=0.05)\n"
   ]
  },
  {
   "cell_type": "code",
   "execution_count": 371,
   "id": "5488b64d-eee3-4917-bc99-1b825523fb87",
   "metadata": {
    "tags": []
   },
   "outputs": [],
   "source": [
    "# TESTING\n",
    "# Box Area ranges from 494 to 2501\n"
   ]
  }
 ],
 "metadata": {
  "kernelspec": {
   "display_name": "Python (3)",
   "language": "python",
   "name": "3"
  },
  "language_info": {
   "codemirror_mode": {
    "name": "ipython",
    "version": 3
   },
   "file_extension": ".py",
   "mimetype": "text/x-python",
   "name": "python",
   "nbconvert_exporter": "python",
   "pygments_lexer": "ipython3",
   "version": "3.9.20"
  }
 },
 "nbformat": 4,
 "nbformat_minor": 5
}
