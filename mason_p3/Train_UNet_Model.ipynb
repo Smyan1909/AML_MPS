{
 "cells": [
  {
   "cell_type": "code",
   "execution_count": 103,
   "id": "581ac737-1637-48c4-ad76-7e32ca82f678",
   "metadata": {
    "tags": []
   },
   "outputs": [],
   "source": [
    "import pickle\n",
    "import gzip\n",
    "import os\n",
    "import time\n",
    "import copy\n",
    "import cv2\n",
    "import random\n",
    "\n",
    "import numpy as np\n",
    "import pandas as pd\n",
    "from tqdm import tqdm\n",
    "import matplotlib.pyplot as plt\n",
    "from IPython.display import display, clear_output\n",
    "\n",
    "import torch\n",
    "import torch.nn as nn\n",
    "import torch.nn.functional as F\n",
    "import torch.optim as optim\n",
    "import torchvision.transforms as transforms\n",
    "from torch.utils.data import Dataset, DataLoader\n",
    "\n",
    "import warnings\n",
    "warnings.filterwarnings('ignore')\n",
    "device = torch.device(\"cuda\" if torch.cuda.is_available() else \"cpu\")"
   ]
  },
  {
   "cell_type": "code",
   "execution_count": 105,
   "id": "d5d96fae-e912-4ca9-98bf-b4719f4dd369",
   "metadata": {
    "tags": []
   },
   "outputs": [],
   "source": [
    "class BoxModel(nn.Module):\n",
    "    def __init__(self):\n",
    "        super(BoxModel, self).__init__()\n",
    "        self.conv_layers = nn.Sequential(\n",
    "            nn.Conv2d(1, 16, kernel_size=3, stride=1, padding=1),\n",
    "            nn.ReLU(),\n",
    "            nn.BatchNorm2d(16),\n",
    "            nn.MaxPool2d(kernel_size=2, stride=2),\n",
    "            \n",
    "            nn.Conv2d(16, 32, kernel_size=3, stride=1, padding=1),\n",
    "            nn.ReLU(),\n",
    "            nn.BatchNorm2d(32),\n",
    "            nn.MaxPool2d(kernel_size=2, stride=2),\n",
    "            \n",
    "            nn.Conv2d(32, 64, kernel_size=3, stride=1, padding=1),\n",
    "            nn.ReLU(),\n",
    "            nn.BatchNorm2d(64),\n",
    "            nn.MaxPool2d(kernel_size=2, stride=2),\n",
    "            \n",
    "            nn.Conv2d(64, 128, kernel_size=3, stride=1, padding=1),\n",
    "            nn.ReLU(),\n",
    "            nn.BatchNorm2d(128),\n",
    "            nn.MaxPool2d(kernel_size=2, stride=2),\n",
    "        )\n",
    "        \n",
    "        self.fc_layers = nn.Sequential(\n",
    "            nn.Flatten(),\n",
    "            nn.Linear(128 * 16 * 16, 1024),\n",
    "            nn.ReLU(),\n",
    "            nn.Dropout(p=0.5),\n",
    "            nn.Linear(1024, 128),\n",
    "            nn.ReLU(),\n",
    "            nn.Linear(128, 2),  # Predicting 2 coordinates (x, y)\n",
    "            nn.Sigmoid()  # Sigmoid for normalized coordinates [0, 1]\n",
    "        )\n",
    "        \n",
    "    def forward(self, x):\n",
    "        x = self.conv_layers(x)\n",
    "        x = self.fc_layers(x)\n",
    "        return x\n",
    "    \n",
    "box_model = torch.load(\"models/box_model.pth\")"
   ]
  },
  {
   "cell_type": "code",
   "execution_count": 107,
   "id": "dc7edac9-7701-4c19-b634-60ab31f48156",
   "metadata": {
    "tags": []
   },
   "outputs": [
    {
     "name": "stdout",
     "output_type": "stream",
     "text": [
      "Dividing Data\n"
     ]
    },
    {
     "name": "stderr",
     "output_type": "stream",
     "text": [
      "100%|██████████| 65/65 [00:00<00:00, 160.47it/s]\n"
     ]
    },
    {
     "name": "stdout",
     "output_type": "stream",
     "text": [
      "Removing Duds\n"
     ]
    },
    {
     "name": "stderr",
     "output_type": "stream",
     "text": [
      "100%|██████████| 46/46 [00:00<00:00, 706.47it/s]\n",
      "100%|██████████| 19/19 [00:00<00:00, 35.20it/s]\n",
      "100%|██████████| 65/65 [00:00<00:00, 107.16it/s]"
     ]
    },
    {
     "name": "stdout",
     "output_type": "stream",
     "text": [
      "Finished Loading Data\n",
      "\n",
      "Amateur Train set items:46\n",
      "Expert Train set items:19\n",
      "All Train set items:65\n"
     ]
    },
    {
     "name": "stderr",
     "output_type": "stream",
     "text": [
      "\n"
     ]
    }
   ],
   "source": [
    "def load_zipped_pickle(filename):\n",
    "    with gzip.open(filename, 'rb') as f:\n",
    "        loaded_object = pickle.load(f)\n",
    "        return loaded_object\n",
    "    \n",
    "# load data\n",
    "test_data = load_zipped_pickle(\"test.pkl\")\n",
    "train_data = load_zipped_pickle(\"train.pkl\")\n",
    "\n",
    "train_data_amateurs = []\n",
    "train_data_experts = []\n",
    "train_data_all = []\n",
    "\n",
    "print(\"Dividing Data\")\n",
    "    \n",
    "for item in tqdm(train_data):\n",
    "    if(item['dataset'] == \"amateur\"):\n",
    "        train_data_amateurs.append(item)\n",
    "    else:\n",
    "        train_data_experts.append(item)\n",
    "    train_data_all.append(copy.deepcopy(item))\n",
    "    \n",
    "    \n",
    "def eliminate_exes(data_point):  \n",
    "    video = data_point['video'] \n",
    "    frames = data_point['frames'] \n",
    "    label = data_point['label']\n",
    "    \n",
    "    height, width, n_frames = video.shape\n",
    "    \n",
    "    cut_video = np.zeros((height, width, len(frames)))\n",
    "    cut_label = np.zeros((height, width, len(frames)))\n",
    "    \n",
    "    for i, f in enumerate(frames):\n",
    "        cut_video[:, :, i] = video[:, :, f]\n",
    "        cut_label[:, :, i] = label[:, :, f]\n",
    "        \n",
    "    data_point['video'] = cut_video\n",
    "    data_point['label'] = cut_label\n",
    "\n",
    "def clean_data(data):\n",
    "    for item in tqdm(data):\n",
    "        eliminate_exes(item)\n",
    "        \n",
    "print(\"Removing Duds\")\n",
    "# one time run!!\n",
    "clean_data(train_data_amateurs)\n",
    "clean_data(train_data_experts)\n",
    "clean_data(train_data_all)\n",
    "print(\"Finished Loading Data\\n\")\n",
    "print(f\"Amateur Train set items:{len(train_data_amateurs)}\")\n",
    "print(f\"Expert Train set items:{len(train_data_experts)}\")\n",
    "print(f\"All Train set items:{len(train_data_all)}\")"
   ]
  },
  {
   "cell_type": "code",
   "execution_count": 108,
   "id": "ba63bad3-ec6a-4d98-953f-e53f187eb040",
   "metadata": {
    "tags": []
   },
   "outputs": [],
   "source": [
    "def extract_box_center_batch(box_batch):\n",
    "    l = box_batch.shape[0]\n",
    "    \n",
    "    center_batch = []\n",
    "    \n",
    "    for i in range(l):\n",
    "        center_batch.append( extract_box_center(box_batch[i,:,:]))\n",
    "    \n",
    "    center_batch = np.array(center_batch)\n",
    "    \n",
    "    return torch.FloatTensor(center_batch)\n",
    "\n",
    "def extract_box_center(box):\n",
    "    # Find indices where the box is True\n",
    "    true_indices = np.argwhere(box)\n",
    "    \n",
    "    # Get the min and max indices for rows and columns\n",
    "    min_row, min_col = true_indices.min(axis=0)\n",
    "    max_row, max_col = true_indices.max(axis=0)\n",
    "    \n",
    "    # Compute the center of the bounding box\n",
    "    center_x = (min_row + max_row) // 2\n",
    "    center_y = (min_col + max_col) // 2\n",
    "    \n",
    "    return np.array([center_x / 255.0, center_y / 255.0])\n",
    "\n",
    "def resize_boolean_array(b_item, shape=(256, 256)):\n",
    "    # Resize directly using nearest-neighbor interpolation\n",
    "    resized_item = cv2.resize(\n",
    "        b_item.astype(np.uint8), \n",
    "        (shape[1], shape[0]), \n",
    "        interpolation=cv2.INTER_NEAREST\n",
    "    )\n",
    "    \n",
    "    # Convert back to boolean\n",
    "    return resized_item.astype(bool)"
   ]
  },
  {
   "cell_type": "code",
   "execution_count": 187,
   "id": "a460926b-b98a-4a89-b7ff-1987d2f88d77",
   "metadata": {
    "tags": []
   },
   "outputs": [],
   "source": [
    "def crop_frame_and_label(frame, label, center):\n",
    "    center = center*255.0\n",
    "    cropped_frame = crop_image(frame, center.astype(int))\n",
    "    cropped_label = crop_image(label, center.astype(int))\n",
    "    \n",
    "    return cropped_frame, cropped_label\n",
    "\n",
    "def crop_image(image, center, shape=(128, 128)):\n",
    "    # Initialize an empty cropped image with the desired output shape\n",
    "    cropped_image = np.zeros(shape, dtype=float)\n",
    "    \n",
    "    # Get the center coordinates\n",
    "    c_x = center[0]\n",
    "    c_y = center[1]\n",
    "    \n",
    "    # Calculate the cropping boundaries around the center\n",
    "    min_x = max(0, c_x - 64)  # Ensure min_x is within the image boundaries\n",
    "    max_x = min(image.shape[0], c_x + 64)  # Ensure max_x doesn't exceed image size\n",
    "    \n",
    "    min_y = max(0, c_y - 64)  # Ensure min_y is within the image boundaries\n",
    "    max_y = min(image.shape[1], c_y + 64)  # Ensure max_y doesn't exceed image size\n",
    "    \n",
    "    # Calculate the size of the valid crop region\n",
    "    crop_height = max_x - min_x\n",
    "    crop_width = max_y - min_y\n",
    "    \n",
    "    # Place the valid part of the image into the cropped image\n",
    "    cropped_image[0:crop_height, 0:crop_width] = image[min_x:max_x, min_y:max_y]\n",
    "    \n",
    "    return cropped_image"
   ]
  },
  {
   "cell_type": "code",
   "execution_count": 140,
   "id": "dce51c16-a9ab-48fd-841b-6e78eb48bf96",
   "metadata": {
    "tags": []
   },
   "outputs": [],
   "source": [
    "class UNetDataset(Dataset):\n",
    "    def __init__(self, frames_data, boxes_data, labels_data, transform=None):\n",
    "        self.frames_data = frames_data  \n",
    "        self.boxes_data = boxes_data\n",
    "        self.labels_data = labels_data\n",
    "        self.transform = transform\n",
    "\n",
    "    def __getitem__(self, index):\n",
    "        frame = self.frames_data[index]  # shape (height, width)\n",
    "        box = self.boxes_data[index]\n",
    "        label = self.labels_data[index]\n",
    "        \n",
    "        frame, box, label = self.transform(frame, box, label)\n",
    "        center = extract_box_center(box)\n",
    "        \n",
    "        frame, label = crop_frame_and_label(frame, label, center)\n",
    "            \n",
    "        frame = torch.FloatTensor(frame)\n",
    "        label = torch.FloatTensor(label)\n",
    "\n",
    "        return frame, label\n",
    "\n",
    "    def __len__(self):\n",
    "        return len(self.frames_data)\n",
    "    \n",
    "class RandomRotation:\n",
    "    def __init__(self, angle_range=(0, 360)):\n",
    "        self.angle_range = angle_range\n",
    "\n",
    "    def __call__(self, frame, box, label):\n",
    "        angle = random.uniform(*self.angle_range) \n",
    "        height, width = frame.shape\n",
    "        \n",
    "        rotation_matrix = cv2.getRotationMatrix2D((width / 2, height / 2), angle, 1.0)\n",
    "        \n",
    "        rotated_frame = cv2.warpAffine(frame, rotation_matrix, (width, height))\n",
    "        rotated_label = cv2.warpAffine(label, rotation_matrix, (width, height))\n",
    "        \n",
    "        rotated_box = cv2.warpAffine(box.astype(np.uint8), rotation_matrix, (width, height), flags=cv2.INTER_NEAREST, borderMode=cv2.BORDER_CONSTANT, borderValue=0)\n",
    "        rotated_box = rotated_box.astype(bool)\n",
    "        \n",
    "        return rotated_frame, rotated_box, rotated_label"
   ]
  },
  {
   "cell_type": "code",
   "execution_count": 142,
   "id": "f9a7df8e-662d-40cc-a472-0e4c4e358d16",
   "metadata": {
    "tags": []
   },
   "outputs": [
    {
     "name": "stderr",
     "output_type": "stream",
     "text": [
      "100%|██████████| 46/46 [00:00<00:00, 665.16it/s]\n",
      "100%|██████████| 19/19 [00:00<00:00, 55.74it/s]\n",
      "100%|██████████| 65/65 [00:00<00:00, 173.27it/s]\n"
     ]
    }
   ],
   "source": [
    "def get_resized_list(data):\n",
    "    f = []\n",
    "    b = []\n",
    "    l = []\n",
    "    \n",
    "    for item in tqdm(data):\n",
    "        for i in range(item['video'].shape[2]):\n",
    "            f_item = item['video'][:,:,i] \n",
    "            b_item = item['box']\n",
    "            l_item = item['label'][:,:,i] \n",
    "            \n",
    "            frame = cv2.resize(f_item.astype(np.uint8), (256, 256)) #/ 255.0\n",
    "            f.append(frame)\n",
    "            \n",
    "            label = cv2.resize(l_item.astype(np.uint8), (256, 256)) #/ 255.0\n",
    "            l.append(label)\n",
    " \n",
    "            box = resize_boolean_array(b_item, shape=(256, 256))\n",
    "            b.append(box)\n",
    " \n",
    "    return f, b, l\n",
    "\n",
    "f_a, b_a, l_a = get_resized_list(train_data_amateurs)\n",
    "f_e, b_e, l_e = get_resized_list(train_data_experts)\n",
    "f_ae, b_ae, l_ae = get_resized_list(train_data_all)\n",
    "\n",
    "unet_amateur_train_dataset = UNetDataset(f_a, b_a, l_a, transform=RandomRotation())\n",
    "unet_expert_train_dataset = UNetDataset(f_e, b_e, l_e, transform=RandomRotation())\n",
    "unet_all_train_dataset = UNetDataset(f_ae, b_ae, l_ae, transform=RandomRotation())"
   ]
  },
  {
   "cell_type": "code",
   "execution_count": 221,
   "id": "ca3137a0-ed43-467e-be5a-e04cac3ff8f4",
   "metadata": {
    "tags": []
   },
   "outputs": [
    {
     "data": {
      "image/png": "[encoded data removed]",
      "text/plain": [
       "<Figure size 600x600 with 1 Axes>"
      ]
     },
     "metadata": {},
     "output_type": "display_data"
    }
   ],
   "source": [
    "def print_BoxDataset_item(dataset, index):\n",
    "    frame, label = dataset.__getitem__(index)\n",
    "    \n",
    "    fig, ax = plt.subplots(1, 1, figsize=(6, 6))\n",
    "\n",
    "    # Display the frame (background)\n",
    "    ax.imshow(frame, cmap='gray')\n",
    "    ax.imshow(label, cmap='inferno', alpha=0.4) \n",
    "    ax.axis('off')\n",
    "    plt.tight_layout()\n",
    "    plt.show()\n",
    "        \n",
    "print_BoxDataset_item(unet_all_train_dataset, 6)"
   ]
  },
  {
   "cell_type": "code",
   "execution_count": null,
   "id": "49136c6e-9ca3-4ea3-9ec8-084a0dde6db4",
   "metadata": {},
   "outputs": [],
   "source": []
  },
  {
   "cell_type": "code",
   "execution_count": null,
   "id": "d9512f68-9054-4d47-9ec6-a33a77ea8c0d",
   "metadata": {},
   "outputs": [],
   "source": []
  }
 ],
 "metadata": {
  "kernelspec": {
   "display_name": "Python ECHO 1",
   "language": "python",
   "name": "echo1"
  },
  "language_info": {
   "codemirror_mode": {
    "name": "ipython",
    "version": 3
   },
   "file_extension": ".py",
   "mimetype": "text/x-python",
   "name": "python",
   "nbconvert_exporter": "python",
   "pygments_lexer": "ipython3",
   "version": "3.9.21"
  }
 },
 "nbformat": 4,
 "nbformat_minor": 5
}
