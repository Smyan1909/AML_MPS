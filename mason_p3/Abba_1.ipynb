{
 "cells": [
  {
   "cell_type": "markdown",
   "id": "cee2c219-1381-4bb2-a7b3-8e43745ed68f",
   "metadata": {},
   "source": [
    "## Imports"
   ]
  },
  {
   "cell_type": "code",
   "execution_count": 1,
   "id": "91b4ad20-8fbb-4ee9-9952-4d7171e991b4",
   "metadata": {
    "tags": []
   },
   "outputs": [],
   "source": [
    "import pickle\n",
    "import gzip\n",
    "import os\n",
    "import time\n",
    "import copy\n",
    "import cv2\n",
    "\n",
    "import numpy as np\n",
    "from tqdm import tqdm\n",
    "import matplotlib.pyplot as plt\n",
    "from IPython.display import display, clear_output\n",
    "\n",
    "import torch\n",
    "import torch.nn as nn\n",
    "import torch.nn.functional as F\n",
    "import torch.optim as optim\n",
    "import torchvision.transforms as transforms\n",
    "from torch.utils.data import Dataset, DataLoader"
   ]
  },
  {
   "cell_type": "markdown",
   "id": "7867b63a-9d89-4b5a-9663-0a6ef26fe0bc",
   "metadata": {},
   "source": [
    "## Utility Functions"
   ]
  },
  {
   "cell_type": "code",
   "execution_count": 414,
   "id": "fb7eb264-d733-4bc1-860c-3740ae393842",
   "metadata": {
    "tags": []
   },
   "outputs": [],
   "source": [
    "def print_train_data_point(item, verbose=False):\n",
    "    name = item['name']   #\n",
    "    video = item['video'] #\n",
    "    box = item['box']\n",
    "    label = item['label']\n",
    "    frames = item['frames'] #\n",
    "    dataset = item['dataset'] #\n",
    "    \n",
    "    print(f\"Dataset: {dataset}, Name: {name}\\nVideo Shape:   {video.shape}\\nLabeld Frames: {frames}\")\n",
    "    if verbose:\n",
    "        print(f\"Box Shape:   {box.shape}\\nLabel Shape: {label.shape}\")\n",
    "    print()\n",
    "    \n",
    "def resize_boolean_array(b_item, shape=(128, 128)):\n",
    "    # Step 1: Convert boolean to uint8 (True -> 255, False -> 0)\n",
    "    b_item_uint8 = b_item.astype(np.uint8) * 255\n",
    "    \n",
    "    # Step 2: Resize the array with nearest-neighbor interpolation\n",
    "    size = (shape[1],shape[0])\n",
    "    resized_item = cv2.resize(b_item_uint8, size, interpolation=cv2.INTER_NEAREST)\n",
    "    \n",
    "    # Step 3: Convert back to boolean (any value >= 127 is True)\n",
    "    resized_item_boolean = resized_item >= 127\n",
    "    \n",
    "    return resized_item_boolean\n",
    "\n",
    "def extract_box_center_batch(boolean_batch):\n",
    "    \n",
    "    batch_size = boolean_batch.shape[0]\n",
    "    coordinates = []\n",
    "    \n",
    "    for i in range(batch_size):\n",
    "        boolean_array = boolean_batch[i]\n",
    "        height, width = boolean_array.shape\n",
    "        #print(boolean_array)\n",
    "        \n",
    "        x1 = None\n",
    "        y1 = None\n",
    "        x2 = None\n",
    "        y2 = None\n",
    "        i = 0\n",
    "        \n",
    "        for h in range(height):\n",
    "            for w in range(width):\n",
    "                if boolean_array[h][w] == True:\n",
    "                    x2, y2 = h, w\n",
    "                    if (i==0):\n",
    "                        x1, y1 = h, w\n",
    "                    i += 1\n",
    "        \n",
    "        center_x = (x1 + x2) // 2\n",
    "        center_y = (y1 + y2) // 2\n",
    "        coordinates.append((center_x, center_y))\n",
    "            \n",
    "    return torch.FloatTensor(np.array(coordinates))\n",
    "\n",
    "def reconstruct_box_centers_batch(coords_batch, shape=(128,128), box_width=48, box_height=48):\n",
    "    # box_width and box_height are swaped :D\n",
    "    batch_size = coords_batch.shape[0]\n",
    "    boxes = []\n",
    "    half_width = box_width // 2\n",
    "    half_height = box_height // 2 \n",
    "    \n",
    "    for i in range(batch_size):\n",
    "        center_x, center_y = coords_batch[i,:].detach().numpy().astype(int)\n",
    "        box = np.zeros(shape, dtype=bool)\n",
    "        \n",
    "        # Calculate box boundaries\n",
    "        x1 = max(0, center_x - half_width)\n",
    "        x2 = min(shape[0] - 1, center_x + half_width)\n",
    "        y1 = max(0, center_y - half_height)\n",
    "        y2 = min(shape[1] - 1, center_y + half_height)\n",
    "        \n",
    "        box[x1:x2+1, y1:y2+1] = True\n",
    "        boxes.append(box)\n",
    "    \n",
    "    return torch.BoolTensor(np.array(boxes))\n",
    "\n",
    "def calculate_box_area(x1, y1, x2, y2):\n",
    "    # Ensure the coordinates are within the image bounds\n",
    "    if x1 < 0 or y1 < 0 or x2 > 128 or y2 > 128:\n",
    "        raise ValueError(\"Box coordinates are outside the image bounds.\")\n",
    "    if x1 >= x2 or y1 >= y2:\n",
    "        raise ValueError(\"Invalid box coordinates: (x1, y1) must be top-left and (x2, y2) bottom-right.\")\n",
    "    \n",
    "    # Calculate the width and height of the box\n",
    "    width = x2 - x1\n",
    "    height = y2 - y1\n",
    "    \n",
    "    # Calculate and return the area\n",
    "    return width * height\n",
    "\n",
    "def substitute_with_my_box(box):\n",
    "    #takes given box\n",
    "    #returns box with same center but 50x50\n",
    "    \n",
    "    box_batch = torch.BoolTensor(box).unsqueeze(0)\n",
    "    center_batch = extract_box_center_batch(box_batch)\n",
    "    my_box_batch = reconstruct_box_centers_batch(center_batch)\n",
    "    \n",
    "    return my_box_batch[0].detach().numpy()\n",
    "\n",
    "def get_cropped_frame(frame, box, shape=(48,48)):\n",
    "\n",
    "    height, width = box.shape\n",
    "        \n",
    "    x1 = None\n",
    "    y1 = None\n",
    "    x2 = None\n",
    "    y2 = None\n",
    "    i = 0\n",
    "\n",
    "    for h in range(height):\n",
    "        for w in range(width):\n",
    "            if box[h][w] == True:\n",
    "                x2, y2 = h, w\n",
    "                if (i==0):\n",
    "                    x1, y1 = h, w\n",
    "                i += 1\n",
    "                \n",
    "    cropped_frame = frame[x1:x2, y1+1:y2+1]\n",
    "                    \n",
    "    return cropped_frame"
   ]
  },
  {
   "cell_type": "raw",
   "id": "9048e000-371f-49ba-aced-4d2481bd8304",
   "metadata": {
    "tags": []
   },
   "source": [
    "b1 = np.array([[False, False, False, False, False],\n",
    "               [False, False, False, False, False],\n",
    "               [False, False, True , False, False],\n",
    "               [False, False, False, False, False],\n",
    "               [False, False, False, False, False]])\n",
    "b2 = b1.copy()\n",
    "shape=(10,10)\n",
    "b1 = resize_boolean_array(b1, shape=shape)\n",
    "b2 = resize_boolean_array(b2, shape=shape)\n",
    "b = []\n",
    "b.append(b1)\n",
    "b.append(b2)\n",
    "box_batch = torch.BoolTensor(np.array(b))\n",
    "print(b1)\n",
    "\n",
    "center_batch = extract_box_center_batch(box_batch)\n",
    "print(center_batch[0])\n",
    "\n",
    "new_boxes = reconstruct_box_centers_batch(center_batch, shape=shape, box_size=3)\n",
    "print(new_boxes[0].detach().numpy())"
   ]
  },
  {
   "cell_type": "markdown",
   "id": "a1395e9b-ea6a-45ce-8b54-84946266e321",
   "metadata": {
    "tags": []
   },
   "source": [
    "## Graphing Functions"
   ]
  },
  {
   "cell_type": "code",
   "execution_count": 416,
   "id": "7b4be56c-b649-4938-905a-249f14c35165",
   "metadata": {
    "tags": []
   },
   "outputs": [],
   "source": [
    "def plot_frame(frame, title, mask=None):\n",
    "    \n",
    "    # Apply the mask to the copy if provided\n",
    "    frame_with_mask = frame.copy()\n",
    "    frame_without_mask = frame.copy()\n",
    "    if mask is not None:\n",
    "        frame_with_mask[~mask] = 0\n",
    "    \n",
    "    fig, axs = plt.subplots(1, 2, figsize=(8, 4))\n",
    "    \n",
    "    # Plot the frame without mask\n",
    "    axs[0].imshow(frame_without_mask, cmap='gray')\n",
    "    title0 = title + \" without mask\"\n",
    "    axs[0].set_title(title0)\n",
    "    axs[0].axis('off')\n",
    "    \n",
    "    # Plot the frame with mask\n",
    "    axs[1].imshow(frame_with_mask, cmap='gray')\n",
    "    title1 = title + \" with mask\"\n",
    "    axs[1].set_title(title1)\n",
    "    axs[1].axis('off') \n",
    "    \n",
    "    plt.tight_layout()\n",
    "    plt.show()\n",
    "    \n",
    "def show_video(frames, masks, speed=0.025):\n",
    "    \n",
    "    video = frames.copy()\n",
    "    masked_video = video * masks  # Apply the mask to each frame\n",
    "    \n",
    "    num_frames = video.shape[2]\n",
    "    plt.figure(figsize=(10, 5))\n",
    "    \n",
    "    for i in range(num_frames):\n",
    "        plt.clf()  # Clear the previous plot\n",
    "        \n",
    "        # Left subplot: Original video\n",
    "        plt.subplot(1, 2, 1)\n",
    "        plt.imshow(video[:, :, i], cmap='gray')\n",
    "        plt.axis('off')\n",
    "        plt.title(f\"Original Frame {i+1}/{num_frames}\")\n",
    "        \n",
    "        # Right subplot: Masked video\n",
    "        plt.subplot(1, 2, 2)\n",
    "        plt.imshow(masked_video[:, :, i], cmap='gray')\n",
    "        plt.axis('off')\n",
    "        plt.title(f\"Masked Frame {i+1}/{num_frames}\")\n",
    "        \n",
    "        # Display and wait\n",
    "        display(plt.gcf())\n",
    "        clear_output(wait=True)\n",
    "        time.sleep(speed)"
   ]
  },
  {
   "cell_type": "markdown",
   "id": "6edaeff8-921e-4187-81ef-5bc28e7abb2a",
   "metadata": {
    "tags": []
   },
   "source": [
    "## Load Data"
   ]
  },
  {
   "cell_type": "code",
   "execution_count": 418,
   "id": "f6ec76c5-8574-4992-8451-a68818bd3d99",
   "metadata": {
    "tags": []
   },
   "outputs": [
    {
     "name": "stderr",
     "output_type": "stream",
     "text": [
      "100%|██████████| 65/65 [00:00<00:00, 160.65it/s]"
     ]
    },
    {
     "name": "stdout",
     "output_type": "stream",
     "text": [
      "Amateur Train set items:46\n",
      "Expert Train set items:19\n",
      "All Train set items:65\n",
      "Test set items:20\n"
     ]
    },
    {
     "name": "stderr",
     "output_type": "stream",
     "text": [
      "\n"
     ]
    }
   ],
   "source": [
    "def load_zipped_pickle(filename):\n",
    "    with gzip.open(filename, 'rb') as f:\n",
    "        loaded_object = pickle.load(f)\n",
    "        return loaded_object\n",
    "    \n",
    "# load data\n",
    "train_data = load_zipped_pickle(\"train.pkl\")\n",
    "test_data = load_zipped_pickle(\"test.pkl\")\n",
    "\n",
    "train_data_amateurs = []\n",
    "train_data_experts = []\n",
    "train_data_all = []\n",
    "\n",
    "for item in tqdm(train_data):\n",
    "    if(item['dataset'] == \"amateur\"):\n",
    "        train_data_amateurs.append(item)\n",
    "    else:\n",
    "        train_data_experts.append(item)\n",
    "    train_data_all.append(copy.deepcopy(item))\n",
    "        \n",
    "print(f\"Amateur Train set items:{len(train_data_amateurs)}\")\n",
    "print(f\"Expert Train set items:{len(train_data_experts)}\")\n",
    "print(f\"All Train set items:{len(train_data_all)}\")\n",
    "print(f\"Test set items:{len(test_data)}\")"
   ]
  },
  {
   "cell_type": "code",
   "execution_count": 419,
   "id": "39be7ce3-b66f-414c-9107-2b1d1578ee4d",
   "metadata": {
    "tags": []
   },
   "outputs": [
    {
     "name": "stderr",
     "output_type": "stream",
     "text": [
      "100%|██████████| 46/46 [00:00<00:00, 1270.84it/s]\n",
      "100%|██████████| 19/19 [00:00<00:00, 45.92it/s]\n",
      "100%|██████████| 65/65 [00:00<00:00, 136.78it/s]\n"
     ]
    }
   ],
   "source": [
    "def eliminate_exes(data_point):  \n",
    "    video = data_point['video'] \n",
    "    frames = data_point['frames'] \n",
    "    label = data_point['label']\n",
    "    \n",
    "    height, width, n_frames = video.shape\n",
    "    \n",
    "    cut_video = np.zeros((height, width, len(frames)))\n",
    "    cut_label = np.zeros((height, width, len(frames)))\n",
    "    \n",
    "    for i, f in enumerate(frames):\n",
    "        cut_video[:, :, i] = video[:, :, f]\n",
    "        cut_label[:, :, i] = label[:, :, f]\n",
    "        \n",
    "    data_point['video'] = cut_video\n",
    "    data_point['label'] = cut_label\n",
    "\n",
    "def clean_data(data):\n",
    "    for item in tqdm(data):\n",
    "        eliminate_exes(item)\n",
    "        \n",
    "# one time run!!\n",
    "clean_data(train_data_amateurs)\n",
    "clean_data(train_data_experts)\n",
    "clean_data(train_data_all)\n",
    "#          test_data"
   ]
  },
  {
   "cell_type": "markdown",
   "id": "b858d299-b7c9-43ac-a4c9-db817ec35df5",
   "metadata": {
    "tags": []
   },
   "source": [
    "## Create Datasets"
   ]
  },
  {
   "cell_type": "code",
   "execution_count": 422,
   "id": "38f19716-6673-429c-82c8-00b145b58c61",
   "metadata": {
    "tags": []
   },
   "outputs": [],
   "source": [
    "class EchoDataset(Dataset):\n",
    "    def __init__(self, frames_data, boxes_data, labels_data, test=False,transform=None):\n",
    "        self.frames_data = frames_data  # Numpy array: (num_frames, height, width)\n",
    "        self.boxes_data = boxes_data    # Numpy array: (num_frames, height, width)\n",
    "        \n",
    "        if not test:\n",
    "            self.labels_data = labels_data  # Numpy array: (num_frames, height, width)\n",
    "        else:\n",
    "            self.labels_data = None\n",
    "            \n",
    "        self.transform = transform\n",
    "\n",
    "    def __getitem__(self, index):\n",
    "        frame = self.frames_data[index]  # shape (height, width)\n",
    "        box = self.boxes_data[index]     # shape (height, width)\n",
    "        label = self.labels_data[index]   # shape (height, width)\n",
    "\n",
    "        frame = torch.FloatTensor(frame) \n",
    "        box = torch.BoolTensor(box)\n",
    "        label = torch.FloatTensor(label) \n",
    "\n",
    "        return frame, box, label\n",
    "\n",
    "    def __len__(self):\n",
    "        return len(self.frames_data)"
   ]
  },
  {
   "cell_type": "code",
   "execution_count": 424,
   "id": "ad90f71b-eefb-4002-9685-e504a9dc358c",
   "metadata": {
    "tags": []
   },
   "outputs": [
    {
     "name": "stderr",
     "output_type": "stream",
     "text": [
      "100%|██████████| 46/46 [00:00<00:00, 4596.83it/s]\n",
      "100%|██████████| 19/19 [00:00<00:00, 168.72it/s]\n",
      "100%|██████████| 65/65 [00:00<00:00, 735.29it/s]\n"
     ]
    }
   ],
   "source": [
    "def get_resized_normalized_list(data):\n",
    "    f = []\n",
    "    b = []\n",
    "    l = []\n",
    "    \n",
    "    for item in tqdm(data):\n",
    "        for i in range(item['video'].shape[2]):\n",
    "            f_item = item['video'][:,:,i] \n",
    "            b_item = item['box']\n",
    "            l_item = item['label'][:,:,i]\n",
    "            \n",
    "            f.append(cv2.resize(f_item.astype(np.uint8), (128, 128)))\n",
    "            b.append(resize_boolean_array(b_item, shape=(128, 128)))\n",
    "            l.append(cv2.resize(l_item.astype(np.uint8), (128, 128)))\n",
    "\n",
    "    return f, b, l\n",
    "\n",
    "f_a, b_a, l_a = get_resized_normalized_list(train_data_amateurs)\n",
    "f_e, b_e, l_e = get_resized_normalized_list(train_data_experts)\n",
    "f_ae, b_ae, l_ae = get_resized_normalized_list(train_data_all)"
   ]
  },
  {
   "cell_type": "code",
   "execution_count": 426,
   "id": "0d752cc2-dd33-48c1-bf96-0e6c125f25f9",
   "metadata": {
    "tags": []
   },
   "outputs": [
    {
     "name": "stdout",
     "output_type": "stream",
     "text": [
      "65.0, 46.0, 19.0\n"
     ]
    }
   ],
   "source": [
    "amateur_train_dataset = EchoDataset(f_a, b_a, l_a)\n",
    "expert_train_dataset = EchoDataset(f_e, b_e, l_e)\n",
    "all_train_dataset = EchoDataset(f_ae, b_ae, l_ae)\n",
    "\n",
    "a = all_train_dataset.__len__()\n",
    "b = amateur_train_dataset.__len__()\n",
    "c = expert_train_dataset.__len__()\n",
    "\n",
    "print(f\"{a/3}, {b/3}, {c/3}\")"
   ]
  },
  {
   "cell_type": "markdown",
   "id": "22711d28-a25f-4d99-8428-3579d6ffda9e",
   "metadata": {
    "tags": []
   },
   "source": [
    "## Models"
   ]
  },
  {
   "cell_type": "code",
   "execution_count": 429,
   "id": "aac75116-bc18-4b71-898f-1ed9b7a7e2d2",
   "metadata": {
    "tags": []
   },
   "outputs": [],
   "source": [
    "class BoxPositionModel(nn.Module):\n",
    "    def __init__(self):\n",
    "        super(BoxPositionModel, self).__init__()\n",
    "        self.cnn = nn.Sequential(\n",
    "            nn.Conv2d(1, 32, kernel_size=3, stride=1, padding=1), # Output: 32x128x128\n",
    "            nn.ReLU(),\n",
    "            nn.MaxPool2d(2, 2), # Output: 32x64x64\n",
    "            nn.Conv2d(32, 64, kernel_size=3, stride=1, padding=1), # Output: 64x64x64\n",
    "            nn.ReLU(),\n",
    "            nn.MaxPool2d(2, 2), # Output: 64x32x32\n",
    "            nn.Conv2d(64, 128, kernel_size=3, stride=1, padding=1), # Output: 128x32x32\n",
    "            nn.ReLU(),\n",
    "            nn.MaxPool2d(2, 2) # Output: 128x16x16\n",
    "        )\n",
    "        self.fc = nn.Sequential(\n",
    "            nn.Flatten(),\n",
    "            nn.Linear(128 * 16 * 16, 512),\n",
    "            nn.ReLU(),\n",
    "            nn.Linear(512, 64),\n",
    "            nn.ReLU(),\n",
    "            nn.Linear(64, 2) # Output: (center_x, center_y)\n",
    "        )\n",
    "    \n",
    "    def forward(self, x):\n",
    "        x = self.cnn(x)\n",
    "        x = self.fc(x)\n",
    "        return x"
   ]
  },
  {
   "cell_type": "code",
   "execution_count": 431,
   "id": "6dc633e6-cdfb-4580-b9c8-d3115daf94bb",
   "metadata": {
    "tags": []
   },
   "outputs": [],
   "source": [
    "class SimpleUNet(nn.Module):\n",
    "    def __init__(self, in_channels=1, out_channels=1):\n",
    "        super(SimpleUNet, self).__init__()\n",
    "\n",
    "        # Encoder (Downsampling path)\n",
    "        self.enc1 = self.conv_block(in_channels, 64)\n",
    "        self.enc2 = self.conv_block(64, 128)\n",
    "        self.enc3 = self.conv_block(128, 256)\n",
    "\n",
    "        # Bottleneck\n",
    "        self.bottleneck = self.conv_block(256, 512)\n",
    "\n",
    "        # Decoder (Upsampling path)\n",
    "        self.upconv3 = self.upconv_block(512, 256)\n",
    "        self.dec3 = self.conv_block(512, 256)  # 256 (up) + 256 (cropped encoder)\n",
    "\n",
    "        self.upconv2 = self.upconv_block(256, 128)\n",
    "        self.dec2 = self.conv_block(256, 128)  # 128 (up) + 128 (cropped encoder)\n",
    "\n",
    "        self.upconv1 = self.upconv_block(128, 64)\n",
    "        self.dec1 = self.conv_block(128, 64)   # 64 (up) + 64 (cropped encoder)\n",
    "\n",
    "        # Output layer\n",
    "        self.out_conv = nn.Conv2d(64, out_channels, kernel_size=1)\n",
    "\n",
    "    def conv_block(self, in_channels, out_channels):\n",
    "        \"\"\"Convolutional block with Conv2D + BatchNorm + ReLU\"\"\"\n",
    "        return nn.Sequential(\n",
    "            nn.Conv2d(in_channels, out_channels, kernel_size=3, padding=1),\n",
    "            nn.BatchNorm2d(out_channels),\n",
    "            nn.ReLU(inplace=True),\n",
    "            nn.Conv2d(out_channels, out_channels, kernel_size=3, padding=1),\n",
    "            nn.BatchNorm2d(out_channels),\n",
    "            nn.ReLU(inplace=True)\n",
    "        )\n",
    "\n",
    "    def upconv_block(self, in_channels, out_channels):\n",
    "        \"\"\"Upsampling block with ConvTranspose2D\"\"\"\n",
    "        return nn.ConvTranspose2d(in_channels, out_channels, kernel_size=2, stride=2)\n",
    "\n",
    "    def crop_and_concat(self, encoder_features, decoder_features):\n",
    "        \"\"\"Ensure encoder features match decoder dimensions, then concatenate\"\"\"\n",
    "        _, _, H, W = decoder_features.size()\n",
    "        enc_cropped = transforms.CenterCrop([H, W])(encoder_features)\n",
    "        return torch.cat([enc_cropped, decoder_features], dim=1)\n",
    "\n",
    "    def forward(self, x):\n",
    "        # Encoder\n",
    "        enc1 = self.enc1(x)                           # (N, 64, 50, 50)\n",
    "        enc2 = self.enc2(F.max_pool2d(enc1, 2, 2))    # (N, 128, 25, 25)\n",
    "        enc3 = self.enc3(F.max_pool2d(enc2, 2, 2))    # (N, 256, 12, 12)\n",
    "\n",
    "        # Bottleneck\n",
    "        bottleneck = self.bottleneck(F.max_pool2d(enc3, 2, 2))  # (N, 512, 6, 6)\n",
    "\n",
    "        # Decoder\n",
    "        up3 = self.upconv3(bottleneck)                # (N, 256, 12, 12)\n",
    "        dec3 = self.dec3(self.crop_and_concat(enc3, up3))  # (N, 256, 12, 12)\n",
    "\n",
    "        up2 = self.upconv2(dec3)                      # (N, 128, 25, 25)\n",
    "        dec2 = self.dec2(self.crop_and_concat(enc2, up2))  # (N, 128, 25, 25)\n",
    "\n",
    "        up1 = self.upconv1(dec2)                      # (N, 64, 50, 50)\n",
    "        dec1 = self.dec1(self.crop_and_concat(enc1, up1))  # (N, 64, 50, 50)\n",
    "\n",
    "        # Output\n",
    "        return torch.sigmoid(self.out_conv(dec1))  # Final shape: (N, 1, 50, 50)"
   ]
  },
  {
   "cell_type": "markdown",
   "id": "8d8c6840-bdda-492d-abb9-c3b0aa162ae8",
   "metadata": {},
   "source": [
    "## Train Box finding"
   ]
  },
  {
   "cell_type": "code",
   "execution_count": 54,
   "id": "b0fda87a-05d8-4e43-8435-2b29994e4cfd",
   "metadata": {
    "tags": []
   },
   "outputs": [
    {
     "name": "stdout",
     "output_type": "stream",
     "text": [
      "Epoch 1/30, Loss: 1342.4548856295073\n",
      "Epoch 2/30, Loss: 194.70241370567908\n",
      "Epoch 3/30, Loss: 112.56922296377329\n",
      "Epoch 4/30, Loss: 88.27193333552434\n",
      "Epoch 5/30, Loss: 91.14342733529898\n",
      "Epoch 6/30, Loss: 69.24784249525804\n",
      "Epoch 7/30, Loss: 50.763411008394684\n",
      "Epoch 8/30, Loss: 29.782359563387356\n",
      "Epoch 9/30, Loss: 22.15634984236497\n",
      "Epoch 10/30, Loss: 17.67059436211219\n",
      "Epoch 11/30, Loss: 10.30830062352694\n",
      "Epoch 12/30, Loss: 8.307481252230131\n",
      "Epoch 13/30, Loss: 9.221248333270733\n",
      "Epoch 14/30, Loss: 6.545297310902522\n",
      "Epoch 15/30, Loss: 8.681078085532555\n",
      "Epoch 16/30, Loss: 6.993118762969971\n",
      "Epoch 17/30, Loss: 5.169330615263719\n",
      "Epoch 18/30, Loss: 2.42419185088231\n",
      "Epoch 19/30, Loss: 2.6867149151288547\n",
      "Epoch 20/30, Loss: 1.8467683104368358\n",
      "Epoch 21/30, Loss: 2.407716255921584\n",
      "Epoch 22/30, Loss: 1.2624548031733587\n",
      "Epoch 23/30, Loss: 1.043437117567429\n",
      "Epoch 24/30, Loss: 0.9732154195125287\n",
      "Epoch 25/30, Loss: 0.5731760836564578\n",
      "Epoch 26/30, Loss: 0.9162879104797657\n",
      "Epoch 27/30, Loss: 0.6965439755182999\n",
      "Epoch 28/30, Loss: 0.363498703791545\n",
      "Epoch 29/30, Loss: 0.2944477509993773\n",
      "Epoch 30/30, Loss: 0.3290492880802888\n"
     ]
    }
   ],
   "source": [
    "device = torch.device(\"cuda\" if torch.cuda.is_available() else \"cpu\")\n",
    "\n",
    "train_loader = DataLoader(all_train_dataset, batch_size=16, shuffle=True)\n",
    "\n",
    "box_model = BoxPositionModel()\n",
    "criterion = nn.MSELoss()\n",
    "optimizer = optim.Adam(model.parameters(), lr=0.001)\n",
    "\n",
    "# Training loop\n",
    "def train_model(train_loader, model, criterion, optimizer, num_epochs=10):\n",
    "    model.train()\n",
    "    for epoch in range(num_epochs):\n",
    "        total_loss = 0\n",
    "        for frame_batch, box_batch, label_batch in train_loader: # images: (batch_size, 1, 128, 128), targets: (batch_size, 4)\n",
    "            optimizer.zero_grad()\n",
    "            outputs = model(frame_batch.unsqueeze(1))\n",
    "            loss = criterion(outputs, extract_box_center_batch(box_batch))\n",
    "            loss.backward()\n",
    "            optimizer.step()\n",
    "            total_loss += loss.item()\n",
    "        print(f\"Epoch {epoch+1}/{num_epochs}, Loss: {total_loss/len(train_loader)}\")\n",
    "\n",
    "        \n",
    "train_model(train_loader, model, criterion, optimizer, num_epochs=30)"
   ]
  },
  {
   "cell_type": "markdown",
   "id": "b4d8ec49-f697-43d4-a409-b1beb36e6a6a",
   "metadata": {},
   "source": [
    "## BoxModel Testing"
   ]
  },
  {
   "cell_type": "code",
   "execution_count": 433,
   "id": "b77a531d-bf81-482f-a21d-a8ce6bc75473",
   "metadata": {
    "tags": []
   },
   "outputs": [
    {
     "data": {
      "image/png": "[encoded data removed]",
      "text/plain": [
       "<Figure size 1000x500 with 2 Axes>"
      ]
     },
     "metadata": {},
     "output_type": "display_data"
    }
   ],
   "source": [
    "test_video_0 = test_data[0]['video']\n",
    "vid = np.zeros((128,128,test_video_0.shape[2]))\n",
    "for i in range(test_video_0.shape[2]):\n",
    "    vid[:,:,i] = cv2.resize(test_video_0[:,:,i].astype(np.uint8), (128, 128))\n",
    "   \n",
    "\n",
    "vid = torch.FloatTensor(vid)\n",
    "frames = vid.unsqueeze(0)\n",
    "frames = frames.permute(3, 0, 1, 2)\n",
    "#print(frames.shape)\n",
    "\n",
    "\n",
    "model.eval()\n",
    "frame_box_coords = model(frames)\n",
    "boxes = reconstruct_box_centers_batch(frame_box_coords)\n",
    "\n",
    "video_frames = frames.squeeze().permute(1, 2, 0)\n",
    "video_boxes = boxes.permute(1, 2, 0)\n",
    "#print(video_frames.shape)\n",
    "#print(video_boxes.shape)\n",
    "\n",
    "show_video(frames=video_frames.detach().numpy(), masks=video_boxes.detach().numpy(), speed=0.05)\n"
   ]
  },
  {
   "cell_type": "markdown",
   "id": "2bc7c38c-0d16-4762-be77-398950a02352",
   "metadata": {
    "tags": []
   },
   "source": [
    "## Homogenize Box size in datasets"
   ]
  },
  {
   "cell_type": "code",
   "execution_count": 435,
   "id": "88b37627-36d1-42ce-9a3f-879235569a43",
   "metadata": {
    "tags": []
   },
   "outputs": [],
   "source": [
    "def crop_frames_adjust_boxes_dataset(dataset):\n",
    "    boxes = dataset.boxes_data\n",
    "    new_boxes = []\n",
    "    \n",
    "    for i in range(len(boxes)):\n",
    "        new_boxes.append(substitute_with_my_box(boxes[i]))\n",
    "    \n",
    "    new_boxes = np.array(new_boxes) \n",
    "    dataset.boxes_data = new_boxes\n",
    "    \n",
    "    frames = dataset.frames_data\n",
    "    boxes = dataset.boxes_data\n",
    "    cropped_frames = []\n",
    "    \n",
    "    for i in range(len(frames)):\n",
    "        cropped_frames.append(get_cropped_frame(frames[i], boxes[i]))\n",
    "        \n",
    "    new_frames = np.array(cropped_frames)\n",
    "    dataset.frames_data = new_frames\n",
    "    \n",
    "    labels = dataset.labels_data\n",
    "    cropped_labels = []\n",
    "    \n",
    "    for i in range(len(labels)):\n",
    "        cropped_labels.append(get_cropped_frame(labels[i], boxes[i]))\n",
    "        \n",
    "    new_labels = np.array(cropped_labels)\n",
    "    dataset.labels_data = new_labels\n",
    "\n",
    "        \n",
    "        \n",
    "crop_frames_adjust_boxes_dataset(amateur_train_dataset)\n",
    "crop_frames_adjust_boxes_dataset(expert_train_dataset)\n",
    "crop_frames_adjust_boxes_dataset(all_train_dataset)"
   ]
  },
  {
   "cell_type": "code",
   "execution_count": 436,
   "id": "47a7e515-c1c3-484e-9aa4-7f74f85a14d2",
   "metadata": {
    "tags": []
   },
   "outputs": [
    {
     "name": "stdout",
     "output_type": "stream",
     "text": [
      "torch.Size([48, 48])\n"
     ]
    },
    {
     "data": {
      "image/png": "[encoded data removed]",
      "text/plain": [
       "<Figure size 640x480 with 1 Axes>"
      ]
     },
     "metadata": {},
     "output_type": "display_data"
    }
   ],
   "source": [
    "frame, box, label = amateur_train_dataset.__getitem__(5)\n",
    "\n",
    "print(label.shape)\n",
    "plt.imshow(label)\n",
    "plt.show()"
   ]
  },
  {
   "cell_type": "markdown",
   "id": "493c215f-b150-4377-adf4-ed351b7f9190",
   "metadata": {},
   "source": [
    "## Train UNET"
   ]
  },
  {
   "cell_type": "code",
   "execution_count": 453,
   "id": "7a731599-8fea-4ad8-aae3-96d94d4e85e0",
   "metadata": {
    "tags": []
   },
   "outputs": [
    {
     "name": "stdout",
     "output_type": "stream",
     "text": [
      "Epoch 1/20, Loss: 0.5236170424355401\n",
      "Epoch 2/20, Loss: 0.44436098138491315\n",
      "Epoch 3/20, Loss: 0.38672101828787064\n",
      "Epoch 4/20, Loss: 0.34379323323567706\n",
      "Epoch 5/20, Loss: 0.31302648451593185\n",
      "Epoch 6/20, Loss: 0.2913326687282986\n",
      "Epoch 7/20, Loss: 0.27463218238618636\n",
      "Epoch 8/20, Loss: 0.2609780232111613\n",
      "Epoch 9/20, Loss: 0.24952007664574516\n",
      "Epoch 10/20, Loss: 0.24037670095761618\n",
      "Epoch 11/20, Loss: 0.2323011342022154\n",
      "Epoch 12/20, Loss: 0.22549803720580208\n",
      "Epoch 13/20, Loss: 0.2195739878548516\n",
      "Epoch 14/20, Loss: 0.21318868299325308\n",
      "Epoch 15/20, Loss: 0.20836624834272596\n",
      "Epoch 16/20, Loss: 0.2029428846306271\n",
      "Epoch 17/20, Loss: 0.19817034237914616\n",
      "Epoch 18/20, Loss: 0.19379606511857775\n",
      "Epoch 19/20, Loss: 0.19119651118914285\n",
      "Epoch 20/20, Loss: 0.18789641393555534\n"
     ]
    }
   ],
   "source": [
    "unet_model = SimpleUNet()\n",
    "optimizer_unet = torch.optim.Adam(unet_model.parameters(), lr=1e-4)\n",
    "\n",
    "train_loader_amateur = DataLoader(amateur_train_dataset, batch_size=16, shuffle=True)\n",
    "num_epoch = 20\n",
    "\n",
    "for epoch in range(num_epoch):\n",
    "    unet_model.train()\n",
    "    total_loss = 0\n",
    "\n",
    "    for frame_batch, box_batch, label_batch in train_loader_amateur:\n",
    "        \n",
    "        frame_batch, label_batch = frame_batch.to(device), label_batch.to(device)\n",
    "        frame_batch = frame_batch.unsqueeze(1)\n",
    "        optimizer_unet.zero_grad()\n",
    "    \n",
    "        #print(frame_batch.shape)\n",
    "        #print(label_batch.shape)\n",
    "        #break\n",
    "        \n",
    "        preds = unet_model(frame_batch)\n",
    "        preds = preds.squeeze()\n",
    "        #print(preds.shape)\n",
    "        #print(label_batch.shape)\n",
    "        #break\n",
    "    \n",
    "        loss = F.binary_cross_entropy(preds, label_batch)\n",
    "        #print(loss)\n",
    "        #break\n",
    "\n",
    "        loss.backward()\n",
    "        optimizer_unet.step()\n",
    "        \n",
    "        total_loss += loss.item()    \n",
    "    print(f\"Epoch {epoch+1}/{num_epoch}, Loss: {total_loss/len(train_loader_amateur)}\")"
   ]
  },
  {
   "cell_type": "markdown",
   "id": "576eb0b9-cd27-40be-9db3-3a805bfa4b36",
   "metadata": {},
   "source": [
    "## UNET testing"
   ]
  },
  {
   "cell_type": "code",
   "execution_count": null,
   "id": "2584e42d-065e-418e-bbe0-432c3116e037",
   "metadata": {},
   "outputs": [],
   "source": [
    "test_video_0 = test_data[0]['video']\n",
    "vid = np.zeros((128,128,test_video_0.shape[2]))\n",
    "for i in range(test_video_0.shape[2]):\n",
    "    vid[:,:,i] = cv2.resize(test_video_0[:,:,i].astype(np.uint8), (128, 128))"
   ]
  }
 ],
 "metadata": {
  "kernelspec": {
   "display_name": "Python (3)",
   "language": "python",
   "name": "3"
  },
  "language_info": {
   "codemirror_mode": {
    "name": "ipython",
    "version": 3
   },
   "file_extension": ".py",
   "mimetype": "text/x-python",
   "name": "python",
   "nbconvert_exporter": "python",
   "pygments_lexer": "ipython3",
   "version": "3.9.20"
  }
 },
 "nbformat": 4,
 "nbformat_minor": 5
}
