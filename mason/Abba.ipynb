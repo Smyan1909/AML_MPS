{
 "cells": [
  {
   "cell_type": "markdown",
   "id": "cee2c219-1381-4bb2-a7b3-8e43745ed68f",
   "metadata": {},
   "source": [
    "## Imports"
   ]
  },
  {
   "cell_type": "code",
   "execution_count": 145,
   "id": "91b4ad20-8fbb-4ee9-9952-4d7171e991b4",
   "metadata": {
    "tags": []
   },
   "outputs": [],
   "source": [
    "import pickle\n",
    "import gzip\n",
    "import os\n",
    "import time\n",
    "import copy\n",
    "import cv2\n",
    "\n",
    "import numpy as np\n",
    "from tqdm import tqdm\n",
    "import matplotlib.pyplot as plt\n",
    "from IPython.display import display, clear_output\n",
    "\n",
    "import torch\n",
    "import torch.nn as nn\n",
    "import torch.nn.functional as F\n",
    "import torch.optim as optim\n",
    "import torchvision.transforms as transforms\n",
    "from torch.utils.data import Dataset, DataLoader"
   ]
  },
  {
   "cell_type": "markdown",
   "id": "7867b63a-9d89-4b5a-9663-0a6ef26fe0bc",
   "metadata": {},
   "source": [
    "## Utility Functions"
   ]
  },
  {
   "cell_type": "code",
   "execution_count": 363,
   "id": "fb7eb264-d733-4bc1-860c-3740ae393842",
   "metadata": {
    "tags": []
   },
   "outputs": [],
   "source": [
    "def print_train_data_point(item, verbose=False):\n",
    "    name = item['name']   #\n",
    "    video = item['video'] #\n",
    "    box = item['box']\n",
    "    label = item['label']\n",
    "    frames = item['frames'] #\n",
    "    dataset = item['dataset'] #\n",
    "    \n",
    "    print(f\"Dataset: {dataset}, Name: {name}\\nVideo Shape:   {video.shape}\\nLabeld Frames: {frames}\")\n",
    "    if verbose:\n",
    "        print(f\"Box Shape:   {box.shape}\\nLabel Shape: {label.shape}\")\n",
    "    print()\n",
    "    \n",
    "def resize_boolean_array(b_item, shape=(128, 128)):\n",
    "    # Step 1: Convert boolean to uint8 (True -> 255, False -> 0)\n",
    "    b_item_uint8 = b_item.astype(np.uint8) * 255\n",
    "    \n",
    "    # Step 2: Resize the array with nearest-neighbor interpolation\n",
    "    size = (shape[1],shape[0])\n",
    "    resized_item = cv2.resize(b_item_uint8, size, interpolation=cv2.INTER_NEAREST)\n",
    "    \n",
    "    # Step 3: Convert back to boolean (any value >= 127 is True)\n",
    "    resized_item_boolean = resized_item >= 127\n",
    "    \n",
    "    return resized_item_boolean\n",
    "\n",
    "def extract_box_coords_batch(boolean_batch):\n",
    "    \n",
    "    batch_size = boolean_batch.shape[0]\n",
    "    coordinates = []\n",
    "    \n",
    "    for i in range(batch_size):\n",
    "        boolean_array = boolean_batch[i]\n",
    "        height, width = boolean_array.shape\n",
    "        #print(boolean_array)\n",
    "        \n",
    "        x1 = None\n",
    "        y1 = None\n",
    "        x2 = None\n",
    "        y2 = None\n",
    "        i = 0\n",
    "        \n",
    "        for h in range(height):\n",
    "            for w in range(width):\n",
    "                if boolean_array[h][w] == True:\n",
    "                    x2, y2 = h, w\n",
    "                    if (i==0):\n",
    "                        x1, y1 = h, w\n",
    "                    i += 1\n",
    "                               \n",
    "        coordinates.append((x1, y1, x2, y2))\n",
    "            \n",
    "    return torch.FloatTensor(np.array(coordinates))\n",
    "\n",
    "def reconstruct_box_coords_batch(coords_batch, shape=(128,128)):\n",
    "    \n",
    "    batch_size = coords_batch.shape[0]\n",
    "    boxes = []\n",
    "    \n",
    "    for i in range(batch_size):\n",
    "        x1, y1, x2, y2 = coords_batch[i,:].detach().numpy().astype(int)\n",
    "        box = np.zeros(shape, dtype=bool)\n",
    "        box[x1:x2+1, y1:y2+1] = True\n",
    "        boxes.append(box)\n",
    "    \n",
    "    return torch.BoolTensor(np.array(boxes))\n",
    "\n",
    "def calculate_box_area(x1, y1, x2, y2):\n",
    "    # Ensure the coordinates are within the image bounds\n",
    "    if x1 < 0 or y1 < 0 or x2 > 128 or y2 > 128:\n",
    "        raise ValueError(\"Box coordinates are outside the image bounds.\")\n",
    "    if x1 >= x2 or y1 >= y2:\n",
    "        raise ValueError(\"Invalid box coordinates: (x1, y1) must be top-left and (x2, y2) bottom-right.\")\n",
    "    \n",
    "    # Calculate the width and height of the box\n",
    "    width = x2 - x1\n",
    "    height = y2 - y1\n",
    "    \n",
    "    # Calculate and return the area\n",
    "    return width * height"
   ]
  },
  {
   "cell_type": "markdown",
   "id": "a1395e9b-ea6a-45ce-8b54-84946266e321",
   "metadata": {
    "tags": []
   },
   "source": [
    "## Graphing Functions"
   ]
  },
  {
   "cell_type": "code",
   "execution_count": 297,
   "id": "7b4be56c-b649-4938-905a-249f14c35165",
   "metadata": {
    "tags": []
   },
   "outputs": [],
   "source": [
    "def plot_frame(frame, title, mask=None):\n",
    "    \n",
    "    # Apply the mask to the copy if provided\n",
    "    frame_with_mask = frame.copy()\n",
    "    frame_without_mask = frame.copy()\n",
    "    if mask is not None:\n",
    "        frame_with_mask[~mask] = 0\n",
    "    \n",
    "    fig, axs = plt.subplots(1, 2, figsize=(8, 4))\n",
    "    \n",
    "    # Plot the frame without mask\n",
    "    axs[0].imshow(frame_without_mask, cmap='gray')\n",
    "    title0 = title + \" without mask\"\n",
    "    axs[0].set_title(title0)\n",
    "    axs[0].axis('off')\n",
    "    \n",
    "    # Plot the frame with mask\n",
    "    axs[1].imshow(frame_with_mask, cmap='gray')\n",
    "    title1 = title + \" with mask\"\n",
    "    axs[1].set_title(title1)\n",
    "    axs[1].axis('off') \n",
    "    \n",
    "    plt.tight_layout()\n",
    "    plt.show()\n",
    "    \n",
    "def show_video(frames, masks, speed=0.025):\n",
    "    \n",
    "    video = frames.copy()\n",
    "    masked_video = video * masks  # Apply the mask to each frame\n",
    "    \n",
    "    num_frames = video.shape[2]\n",
    "    plt.figure(figsize=(10, 5))\n",
    "    \n",
    "    for i in range(num_frames):\n",
    "        plt.clf()  # Clear the previous plot\n",
    "        \n",
    "        # Left subplot: Original video\n",
    "        plt.subplot(1, 2, 1)\n",
    "        plt.imshow(video[:, :, i], cmap='gray')\n",
    "        plt.axis('off')\n",
    "        plt.title(f\"Original Frame {i+1}/{num_frames}\")\n",
    "        \n",
    "        # Right subplot: Masked video\n",
    "        plt.subplot(1, 2, 2)\n",
    "        plt.imshow(masked_video[:, :, i], cmap='gray')\n",
    "        plt.axis('off')\n",
    "        plt.title(\"Masked Frame\")\n",
    "        \n",
    "        # Display and wait\n",
    "        display(plt.gcf())\n",
    "        clear_output(wait=True)\n",
    "        time.sleep(speed)"
   ]
  },
  {
   "cell_type": "markdown",
   "id": "6edaeff8-921e-4187-81ef-5bc28e7abb2a",
   "metadata": {
    "tags": []
   },
   "source": [
    "## Load Data"
   ]
  },
  {
   "cell_type": "code",
   "execution_count": 242,
   "id": "f6ec76c5-8574-4992-8451-a68818bd3d99",
   "metadata": {
    "tags": []
   },
   "outputs": [
    {
     "name": "stderr",
     "output_type": "stream",
     "text": [
      "100%|██████████| 65/65 [00:00<00:00, 168.41it/s]"
     ]
    },
    {
     "name": "stdout",
     "output_type": "stream",
     "text": [
      "Amateur Train set items:46\n",
      "Expert Train set items:19\n",
      "All Train set items:65\n",
      "Test set items:20\n"
     ]
    },
    {
     "name": "stderr",
     "output_type": "stream",
     "text": [
      "\n"
     ]
    }
   ],
   "source": [
    "def load_zipped_pickle(filename):\n",
    "    with gzip.open(filename, 'rb') as f:\n",
    "        loaded_object = pickle.load(f)\n",
    "        return loaded_object\n",
    "    \n",
    "# load data\n",
    "train_data = load_zipped_pickle(\"train.pkl\")\n",
    "test_data = load_zipped_pickle(\"test.pkl\")\n",
    "\n",
    "train_data_amateurs = []\n",
    "train_data_experts = []\n",
    "train_data_all = []\n",
    "\n",
    "for item in tqdm(train_data):\n",
    "    if(item['dataset'] == \"amateur\"):\n",
    "        train_data_amateurs.append(item)\n",
    "    else:\n",
    "        train_data_experts.append(item)\n",
    "    train_data_all.append(copy.deepcopy(item))\n",
    "        \n",
    "print(f\"Amateur Train set items:{len(train_data_amateurs)}\")\n",
    "print(f\"Expert Train set items:{len(train_data_experts)}\")\n",
    "print(f\"All Train set items:{len(train_data_all)}\")\n",
    "print(f\"Test set items:{len(test_data)}\")"
   ]
  },
  {
   "cell_type": "code",
   "execution_count": 244,
   "id": "39be7ce3-b66f-414c-9107-2b1d1578ee4d",
   "metadata": {
    "tags": []
   },
   "outputs": [
    {
     "name": "stderr",
     "output_type": "stream",
     "text": [
      "100%|██████████| 46/46 [00:00<00:00, 961.22it/s]\n",
      "100%|██████████| 19/19 [00:00<00:00, 42.22it/s]\n",
      "100%|██████████| 65/65 [00:00<00:00, 126.97it/s]\n"
     ]
    }
   ],
   "source": [
    "def eliminate_exes(data_point):  \n",
    "    video = data_point['video'] \n",
    "    frames = data_point['frames'] \n",
    "    label = data_point['label']\n",
    "    \n",
    "    height, width, n_frames = video.shape\n",
    "    \n",
    "    cut_video = np.zeros((height, width, len(frames)))\n",
    "    cut_label = np.zeros((height, width, len(frames)))\n",
    "    \n",
    "    for i, f in enumerate(frames):\n",
    "        cut_video[:, :, i] = video[:, :, f]\n",
    "        cut_label[:, :, i] = label[:, :, f]\n",
    "        \n",
    "    data_point['video'] = cut_video\n",
    "    data_point['label'] = cut_label\n",
    "\n",
    "def clean_data(data):\n",
    "    for item in tqdm(data):\n",
    "        eliminate_exes(item)\n",
    "        \n",
    "# one time run!!\n",
    "clean_data(train_data_amateurs)\n",
    "clean_data(train_data_experts)\n",
    "clean_data(train_data_all)\n",
    "#          test_data"
   ]
  },
  {
   "cell_type": "markdown",
   "id": "b858d299-b7c9-43ac-a4c9-db817ec35df5",
   "metadata": {
    "tags": []
   },
   "source": [
    "## Create Datasets"
   ]
  },
  {
   "cell_type": "code",
   "execution_count": 246,
   "id": "38f19716-6673-429c-82c8-00b145b58c61",
   "metadata": {
    "tags": []
   },
   "outputs": [],
   "source": [
    "class EchoDataset(Dataset):\n",
    "    def __init__(self, frames_data, boxes_data, labels_data, test=False,transform=None):\n",
    "        self.frames_data = frames_data  # Numpy array: (num_frames, height, width)\n",
    "        self.boxes_data = boxes_data    # Numpy array: (num_frames, height, width)\n",
    "        \n",
    "        if not test:\n",
    "            self.labels_data = labels_data  # Numpy array: (num_frames, height, width)\n",
    "        else:\n",
    "            self.labels_data = None\n",
    "            \n",
    "        self.transform = transform\n",
    "\n",
    "    def __getitem__(self, index):\n",
    "        frame = self.frames_data[index]  # shape (height, width)\n",
    "        box = self.boxes_data[index]     # shape (height, width)\n",
    "        label = self.labels_data[index]   # shape (height, width)\n",
    "\n",
    "        frame = torch.FloatTensor(frame) \n",
    "        box = torch.BoolTensor(box)\n",
    "        label = torch.FloatTensor(label) \n",
    "\n",
    "        return frame, box, label\n",
    "\n",
    "    def __len__(self):\n",
    "        return len(self.frames_data)"
   ]
  },
  {
   "cell_type": "code",
   "execution_count": 248,
   "id": "ad90f71b-eefb-4002-9685-e504a9dc358c",
   "metadata": {
    "tags": []
   },
   "outputs": [
    {
     "name": "stderr",
     "output_type": "stream",
     "text": [
      "100%|██████████| 46/46 [00:00<00:00, 3404.11it/s]\n",
      "100%|██████████| 19/19 [00:00<00:00, 174.93it/s]\n",
      "100%|██████████| 65/65 [00:00<00:00, 770.74it/s]\n"
     ]
    }
   ],
   "source": [
    "def get_resized_normalized_list(data):\n",
    "    f = []\n",
    "    b = []\n",
    "    l = []\n",
    "    \n",
    "    for item in tqdm(data):\n",
    "        for i in range(item['video'].shape[2]):\n",
    "            f_item = item['video'][:,:,i] \n",
    "            b_item = item['box']\n",
    "            l_item = item['label'][:,:,i]\n",
    "            \n",
    "            f.append(cv2.resize(f_item.astype(np.uint8), (128, 128)))\n",
    "            b.append(resize_boolean_array(b_item, shape=(128, 128)))\n",
    "            l.append(cv2.resize(l_item.astype(np.uint8), (128, 128)))\n",
    "\n",
    "    return f, b, l\n",
    "\n",
    "f_a, b_a, l_a = get_resized_normalized_list(train_data_amateurs)\n",
    "f_e, b_e, l_e = get_resized_normalized_list(train_data_experts)\n",
    "f_ae, b_ae, l_ae = get_resized_normalized_list(train_data_all)"
   ]
  },
  {
   "cell_type": "code",
   "execution_count": 250,
   "id": "0d752cc2-dd33-48c1-bf96-0e6c125f25f9",
   "metadata": {
    "tags": []
   },
   "outputs": [
    {
     "name": "stdout",
     "output_type": "stream",
     "text": [
      "65.0, 46.0, 19.0\n"
     ]
    }
   ],
   "source": [
    "amateur_train_dataset = EchoDataset(f_a, b_a, l_a)\n",
    "expert_train_dataset = EchoDataset(f_e, b_e, l_e)\n",
    "all_train_dataset = EchoDataset(f_ae, b_ae, l_ae)\n",
    "\n",
    "a = all_train_dataset.__len__()\n",
    "b = amateur_train_dataset.__len__()\n",
    "c = expert_train_dataset.__len__()\n",
    "\n",
    "print(f\"{a/3}, {b/3}, {c/3}\")"
   ]
  },
  {
   "cell_type": "markdown",
   "id": "22711d28-a25f-4d99-8428-3579d6ffda9e",
   "metadata": {
    "tags": []
   },
   "source": [
    "## Models"
   ]
  },
  {
   "cell_type": "code",
   "execution_count": 253,
   "id": "aac75116-bc18-4b71-898f-1ed9b7a7e2d2",
   "metadata": {
    "tags": []
   },
   "outputs": [],
   "source": [
    "class BoxPositionModel(nn.Module):\n",
    "    def __init__(self):\n",
    "        super(BoxPositionModel, self).__init__()\n",
    "        self.cnn = nn.Sequential(\n",
    "            nn.Conv2d(1, 32, kernel_size=3, stride=1, padding=1), # Output: 32x128x128\n",
    "            nn.ReLU(),\n",
    "            nn.MaxPool2d(2, 2), # Output: 32x64x64\n",
    "            nn.Conv2d(32, 64, kernel_size=3, stride=1, padding=1), # Output: 64x64x64\n",
    "            nn.ReLU(),\n",
    "            nn.MaxPool2d(2, 2), # Output: 64x32x32\n",
    "            nn.Conv2d(64, 128, kernel_size=3, stride=1, padding=1), # Output: 128x32x32\n",
    "            nn.ReLU(),\n",
    "            nn.MaxPool2d(2, 2) # Output: 128x16x16\n",
    "        )\n",
    "        self.fc = nn.Sequential(\n",
    "            nn.Flatten(),\n",
    "            nn.Linear(128 * 16 * 16, 512),\n",
    "            nn.ReLU(),\n",
    "            nn.Linear(512, 4) # Output: 4 coordinates (x1, y1, x2, y2)\n",
    "        )\n",
    "    \n",
    "    def forward(self, x):\n",
    "        x = self.cnn(x)\n",
    "        x = self.fc(x)\n",
    "        return x"
   ]
  },
  {
   "cell_type": "markdown",
   "id": "8d8c6840-bdda-492d-abb9-c3b0aa162ae8",
   "metadata": {},
   "source": [
    "## Train Box finding"
   ]
  },
  {
   "cell_type": "code",
   "execution_count": 338,
   "id": "b0fda87a-05d8-4e43-8435-2b29994e4cfd",
   "metadata": {
    "tags": []
   },
   "outputs": [
    {
     "name": "stdout",
     "output_type": "stream",
     "text": [
      "Epoch 1/20, Loss: 7267.1276127741885\n",
      "Epoch 2/20, Loss: 595.1331458458534\n",
      "Epoch 3/20, Loss: 260.8576202392578\n",
      "Epoch 4/20, Loss: 126.2824935913086\n",
      "Epoch 5/20, Loss: 100.91822756253757\n",
      "Epoch 6/20, Loss: 84.04877736018254\n",
      "Epoch 7/20, Loss: 70.56453558114859\n",
      "Epoch 8/20, Loss: 58.72236413222093\n",
      "Epoch 9/20, Loss: 48.72519012597891\n",
      "Epoch 10/20, Loss: 31.991343608269325\n",
      "Epoch 11/20, Loss: 25.378936180701622\n",
      "Epoch 12/20, Loss: 20.94686398139367\n",
      "Epoch 13/20, Loss: 14.657425623673658\n",
      "Epoch 14/20, Loss: 13.718739472902739\n",
      "Epoch 15/20, Loss: 13.606337583982027\n",
      "Epoch 16/20, Loss: 8.523646868192232\n",
      "Epoch 17/20, Loss: 12.136408677467934\n",
      "Epoch 18/20, Loss: 9.174080261817345\n",
      "Epoch 19/20, Loss: 4.930368808599619\n",
      "Epoch 20/20, Loss: 3.723112234702477\n"
     ]
    }
   ],
   "source": [
    "device = torch.device(\"cuda\" if torch.cuda.is_available() else \"cpu\")\n",
    "\n",
    "train_loader = DataLoader(all_train_dataset, batch_size=16, shuffle=True)\n",
    "\n",
    "model = BoxPositionModel()\n",
    "criterion = nn.MSELoss()\n",
    "optimizer = optim.Adam(model.parameters(), lr=0.001)\n",
    "\n",
    "# Training loop\n",
    "def train_model(train_loader, model, criterion, optimizer, num_epochs=10):\n",
    "    model.train()\n",
    "    for epoch in range(num_epochs):\n",
    "        total_loss = 0\n",
    "        for frame_batch, box_batch, label_batch in train_loader: # images: (batch_size, 1, 128, 128), targets: (batch_size, 4)\n",
    "            optimizer.zero_grad()\n",
    "            outputs = model(frame_batch.unsqueeze(1))\n",
    "            loss = criterion(outputs, extract_box_coords_batch(box_batch))\n",
    "            loss.backward()\n",
    "            optimizer.step()\n",
    "            total_loss += loss.item()\n",
    "        print(f\"Epoch {epoch+1}/{num_epochs}, Loss: {total_loss/len(train_loader)}\")\n",
    "\n",
    "        \n",
    "train_model(train_loader, model, criterion, optimizer, num_epochs=20)"
   ]
  },
  {
   "cell_type": "code",
   "execution_count": 348,
   "id": "b77a531d-bf81-482f-a21d-a8ce6bc75473",
   "metadata": {
    "tags": []
   },
   "outputs": [
    {
     "data": {
      "image/png": "[encoded data removed]",
      "text/plain": [
       "<Figure size 1000x500 with 2 Axes>"
      ]
     },
     "metadata": {},
     "output_type": "display_data"
    }
   ],
   "source": [
    "test_video_0 = test_data[3]['video']\n",
    "vid = np.zeros((128,128,test_video_0.shape[2]))\n",
    "for i in range(test_video_0.shape[2]):\n",
    "    vid[:,:,i] = cv2.resize(test_video_0[:,:,i].astype(np.uint8), (128, 128))\n",
    "   \n",
    "\n",
    "model.eval()\n",
    "vid = torch.FloatTensor(vid)\n",
    "frames = vid.unsqueeze(0)\n",
    "frames = frames.permute(3, 0, 1, 2)\n",
    "#print(frames.shape)\n",
    "\n",
    "\n",
    "model.eval()\n",
    "frame_box_coords = model(frames)\n",
    "boxes=reconstruct_box_coords_batch(frame_box_coords)\n",
    "\n",
    "video_frames = frames.squeeze().permute(1, 2, 0)\n",
    "video_boxes = boxes.permute(1, 2, 0)\n",
    "#print(video_frames.shape)\n",
    "#print(video_boxes.shape)\n",
    "\n",
    "show_video(frames=video_frames.detach().numpy(), masks=video_boxes.detach().numpy(), speed=0.1)\n"
   ]
  },
  {
   "cell_type": "code",
   "execution_count": 369,
   "id": "5488b64d-eee3-4917-bc99-1b825523fb87",
   "metadata": {
    "tags": []
   },
   "outputs": [
    {
     "name": "stdout",
     "output_type": "stream",
     "text": [
      "Batch 1\n",
      "1870.0\n",
      "800.0\n",
      "Batch 2\n",
      "2262.0\n",
      "800.0\n",
      "Batch 3\n",
      "2320.0\n",
      "494.0\n",
      "Batch 4\n",
      "2320.0\n",
      "494.0\n",
      "Batch 5\n",
      "2501.0\n",
      "494.0\n",
      "Batch 6\n",
      "2501.0\n",
      "494.0\n",
      "Batch 7\n",
      "2501.0\n",
      "494.0\n",
      "Batch 8\n",
      "2501.0\n",
      "494.0\n",
      "Batch 9\n",
      "2501.0\n",
      "494.0\n",
      "Batch 10\n",
      "2501.0\n",
      "494.0\n",
      "Batch 11\n",
      "2501.0\n",
      "494.0\n",
      "Batch 12\n",
      "2501.0\n",
      "494.0\n"
     ]
    },
    {
     "ename": "IndexError",
     "evalue": "index 3 is out of bounds for dimension 0 with size 3",
     "output_type": "error",
     "traceback": [
      "\u001b[1;31m---------------------------------------------------------------------------\u001b[0m",
      "\u001b[1;31mIndexError\u001b[0m                                Traceback (most recent call last)",
      "Cell \u001b[1;32mIn[369], line 11\u001b[0m\n\u001b[0;32m      9\u001b[0m extracted_box_batch \u001b[38;5;241m=\u001b[39m extract_box_coords_batch(box_batch)\n\u001b[0;32m     10\u001b[0m \u001b[38;5;28;01mfor\u001b[39;00m i \u001b[38;5;129;01min\u001b[39;00m \u001b[38;5;28mrange\u001b[39m(\u001b[38;5;241m16\u001b[39m):\n\u001b[1;32m---> 11\u001b[0m     coords \u001b[38;5;241m=\u001b[39m \u001b[43mextracted_box_batch\u001b[49m\u001b[43m[\u001b[49m\u001b[43mi\u001b[49m\u001b[43m]\u001b[49m\u001b[38;5;241m.\u001b[39mdetach()\u001b[38;5;241m.\u001b[39mnumpy()\n\u001b[0;32m     12\u001b[0m     area \u001b[38;5;241m=\u001b[39m calculate_box_area(coords[\u001b[38;5;241m0\u001b[39m], coords[\u001b[38;5;241m1\u001b[39m], coords[\u001b[38;5;241m2\u001b[39m], coords[\u001b[38;5;241m3\u001b[39m])\n\u001b[0;32m     13\u001b[0m     \u001b[38;5;28;01mif\u001b[39;00m area\u001b[38;5;241m>\u001b[39mmaxi:\n",
      "\u001b[1;31mIndexError\u001b[0m: index 3 is out of bounds for dimension 0 with size 3"
     ]
    }
   ],
   "source": [
    "# TESTING\n",
    "\n",
    "maxi = 0\n",
    "mini = 10000\n",
    "b=0\n",
    "\n",
    "for frame_batch, box_batch, label_batch in train_loader:\n",
    "    b = b+1\n",
    "    extracted_box_batch = extract_box_coords_batch(box_batch)\n",
    "    for i in range(16):\n",
    "        coords = extracted_box_batch[i].detach().numpy()\n",
    "        area = calculate_box_area(coords[0], coords[1], coords[2], coords[3])\n",
    "        if area>maxi:\n",
    "            maxi = area\n",
    "        if area<mini:\n",
    "            mini = area\n",
    "    print(f\"Batch {b}\")\n",
    "    print(maxi)\n",
    "    print(mini)"
   ]
  },
  {
   "cell_type": "code",
   "execution_count": null,
   "id": "04fef340-0d21-4543-ba48-4c118d529d0d",
   "metadata": {},
   "outputs": [],
   "source": []
  }
 ],
 "metadata": {
  "kernelspec": {
   "display_name": "Python (3)",
   "language": "python",
   "name": "3"
  },
  "language_info": {
   "codemirror_mode": {
    "name": "ipython",
    "version": 3
   },
   "file_extension": ".py",
   "mimetype": "text/x-python",
   "name": "python",
   "nbconvert_exporter": "python",
   "pygments_lexer": "ipython3",
   "version": "3.9.20"
  }
 },
 "nbformat": 4,
 "nbformat_minor": 5
}
